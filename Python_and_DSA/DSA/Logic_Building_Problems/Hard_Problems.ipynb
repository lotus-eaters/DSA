{
 "cells": [
  {
   "cell_type": "markdown",
   "id": "a26c6f23",
   "metadata": {},
   "source": [
    "## LOGIC BUILDING HARD LEVEL PROBLEMS"
   ]
  },
  {
   "cell_type": "markdown",
   "id": "67d9d762",
   "metadata": {},
   "source": [
    "# Sieve of Eratosthenes\n",
    "\n",
    "Given a number n, find all prime numbers less than or equal to n."
   ]
  },
  {
   "cell_type": "code",
   "execution_count": null,
   "id": "073c3f80",
   "metadata": {},
   "outputs": [
    {
     "name": "stdout",
     "output_type": "stream",
     "text": [
      "[2, 3, 5, 7]\n"
     ]
    }
   ],
   "source": [
    "import math\n",
    "def Primes(n):\n",
    "    primes=[True]*(n+1)\n",
    "    primes[0]=primes[1]=False\n",
    "    for i in range (2,int(math.sqrt(n))+1):\n",
    "        if primes[i]:\n",
    "            for j in range((i*i),n+1,i):\n",
    "                primes[j]=False\n",
    "    res=[]\n",
    "    for p in range(2,n+1):\n",
    "        if primes[p]:\n",
    "            res.append(p)\n",
    "    return res\n",
    "\n",
    "print(Primes(10))\n",
    "\n",
    "# Time Complexity: O(n*log(log(n))). For each prime number, we mark its multiples, which takes around n/p steps.\n",
    "#  The total time is proportional to n*(1/2 + 1/3 + 1/5 + ....).\n",
    "# This sum over primes grows slowly and is approximately O(n*log(log(n))) making the algorithm very efficient.\n",
    "# Auxiliary Space: O(n)"
   ]
  },
  {
   "cell_type": "code",
   "execution_count": 5,
   "id": "cc74a40b",
   "metadata": {},
   "outputs": [
    {
     "name": "stdout",
     "output_type": "stream",
     "text": [
      "missing ids AMX540_121_1102914132_20250503_132735\n",
      "missing ids AMX167_5546_1332110681_20250515_114008\n",
      "missing ids AMX167_5546_1203377740_20250515_112931\n",
      "missing ids AMX167_5546_1330931202_20250515_113459\n",
      "missing ids AMX167_5546_1098315261_20250515_112234\n"
     ]
    }
   ],
   "source": [
    "ocl_car_recording_ids = [\n",
    "    \"AMV177_8774_1325497479_20230824_133818\",\n",
    "    \"AMW177_932_1038618956_20230807_102544\",\n",
    "    \"AMW177_932_1084117165_20230807_081454\",\n",
    "    \"AMV177_0001_1067697892_20230824_111940\",\n",
    "    \"AMV177_0005_1128889725_20230825_154929\",\n",
    "    \"AMX540_121_1102914132_20250503_132735\",\n",
    "    \"AMW177_932_1268846323_20230807_102300\",\n",
    "    \"AMV177_8774_1264190205_20230817_134601\",\n",
    "    \"AMW177_932_1004879291_20230828_033428\",\n",
    "    \"AMX167_5546_1301774401_20250512_113310\",\n",
    "    \"AMX167_5546_1332110681_20250515_114008\",\n",
    "    \"AMX167_5546_1033098175_20250512_111955\",\n",
    "    \"AMX167_5546_1203377740_20250515_112931\",\n",
    "    \"AMX167_5546_1129872002_20250512_110922\",\n",
    "    \"AMX167_5546_1330931202_20250515_113459\",\n",
    "    \"AMX167_5546_1385280867_20250515_115116\",\n",
    "    \"AMX167_5546_1098315261_20250515_112234\",\n",
    "    \"AMX167_5546_1229367693_20250515_121125\",\n",
    "    \"AMW177_932_1235028827_20230831_103706\",\n",
    "    \"AMW177_932_1156120814_20230829_033246\",\n",
    "    \"AMX167_5546_1132346419_20250515_164643\",\n",
    "    \"AMX540_121_1195908108_20250503_121253\",\n",
    "    \"AMX167_5546_1190276861_20250515_170023\"\n",
    "]\n",
    "\n",
    "ids = [\n",
    "    \"AMW177_932_1038618956_20230807_102544\",\n",
    "    \"AMW177_932_1084117165_20230807_081454\",\n",
    "    \"AMV177_8774_1325497479_20230824_133818\",\n",
    "    \"AMV177_0005_1128889725_20230825_154929\",\n",
    "    \"AMV177_0001_1067697892_20230824_111940\",\n",
    "    \"AMW177_932_1268846323_20230807_102300\",\n",
    "    \"AMV177_8774_1264190205_20230817_134601\",\n",
    "    \"AMW177_932_1004879291_20230828_033428\",\n",
    "    \"AMX167_5546_1301774401_20250512_113310\",\n",
    "    \"AMX167_5546_1033098175_20250512_111955\",\n",
    "    \"AMX167_5546_1129872002_20250512_110922\",\n",
    "    \"AMX167_5546_1385280867_20250515_115116\",\n",
    "    \"AMX167_5546_1229367693_20250515_121125\",\n",
    "    \"AMW177_932_1235028827_20230831_103706\",\n",
    "    \"AMW177_932_1156120814_20230829_033246\",\n",
    "    \"AMX167_5546_1132346419_20250515_164643\",\n",
    "    \"AMX540_121_1195908108_20250503_121253\",\n",
    "    \"AMX167_5546_1190276861_20250515_170023\"\n",
    "]\n",
    "for ocl in ocl_car_recording_ids:\n",
    "    if ocl not in ids:\n",
    "        print('missing ids '+ocl)"
   ]
  },
  {
   "cell_type": "markdown",
   "id": "b7e708f1",
   "metadata": {},
   "source": [
    "# Super Prime\n",
    "\n",
    "Given a positive integer n and the task is to print all the Super-Primes less than or equal to n.\n",
    "\n",
    "Super-prime numbers (also known as higher order primes) are the subsequence of prime number sequence that occupy prime-numbered positions within the sequence of all prime numbers. The first few super primes are 3, 5, 11, and 17. "
   ]
  },
  {
   "cell_type": "code",
   "execution_count": null,
   "id": "efeca1bd",
   "metadata": {},
   "outputs": [
    {
     "name": "stdout",
     "output_type": "stream",
     "text": [
      "[3, 5]\n"
     ]
    }
   ],
   "source": [
    "import math\n",
    "def isPrimes(n):\n",
    "    primes=[True] *(n+1)\n",
    "    primes[0]=primes[1]=False\n",
    "    for i in range(2,int(math.sqrt(n))+1):\n",
    "        if primes[i]:\n",
    "            for j in range(i*i,n+1,i):\n",
    "                primes[j]=False\n",
    "    return primes\n",
    "def superprimes(n):\n",
    "    p=isPrimes(n)\n",
    "    primes=[]\n",
    "    ans=[]\n",
    "    for i in range(n+1):\n",
    "        if p[i]:\n",
    "            primes.append(i)\n",
    "    for idx,k in enumerate(primes,start=1):\n",
    "        if p[idx]:\n",
    "            ans.append(k)\n",
    "    return ans\n",
    "print(superprimes(7))\n",
    "# The idea is to generate all the primes less than or equal to the given number n using the Sieve of Eratosthenes. \n",
    "# Once we have generated all such primes, we iterate through the array and print all prime number that occupy prime\n",
    "# number positions. \n",
    "# Time complexity : - O(n*log(log(n)))- Due to the use fo sieve of eratosthenis.\n",
    "# Auxiliary Space:- O(n) - due to the array used to store primes upro n.\n"
   ]
  },
  {
   "cell_type": "markdown",
   "id": "f30087fb",
   "metadata": {},
   "source": [
    "# Calculate the angle between hour hand and minute hand\n",
    "\n",
    "Given a string s represents time in 24-hour format (\"HH:MM\"), determine the minimum angle between the hour and minute hands of an analog clock."
   ]
  },
  {
   "cell_type": "code",
   "execution_count": null,
   "id": "ad012e08",
   "metadata": {},
   "outputs": [
    {
     "name": "stdout",
     "output_type": "stream",
     "text": [
      "165.000\n"
     ]
    }
   ],
   "source": [
    "def getMin(x, y):\n",
    "    return x if x < y else y\n",
    "def angle(s):  #HH:MM\n",
    "    h=int(s[:2])\n",
    "    m=int(s[3:])\n",
    "    h=h%12\n",
    "    hangle=0.5*(h*60+m)\n",
    "    mangle=m*6\n",
    "    absangle=abs(hangle-mangle)\n",
    "    finalangle=getMin(360-absangle,absangle)\n",
    "    return finalangle\n",
    "s=\"12:30\"\n",
    "print(f\"{angle(s):.3f}\")\n",
    "# [Approach] Using Mathematical Formula - O(1) in Time and O(1) in Space\n",
    "#The minute hand moves 6° per minute, while the hour hand moves 0.5° per minute. \n",
    "# Thus, the hour hand's angle is calculated as hrAngle = 30 × H + 0.5 × M, and the minute hand's angle as minAngle = 6 × M. \n",
    "# The difference between the two angles is diff = |hrAngle - minAngle|.\n",
    "# Since the clock follows a 12-hour format, any 24-hour input should be converted using H = H % 12. \n",
    "# After finding the absolute difference between the two angles, the smaller angle is determined using min(diff, 360 - diff)."
   ]
  },
  {
   "cell_type": "markdown",
   "id": "aa4c42cf",
   "metadata": {},
   "source": [
    "# Program for Tower of Hanoi Algorithm\n",
    "\n",
    "Tower of Hanoi is a mathematical puzzle where we have three rods (A, B, and C) and N disks. Initially, all the disks are stacked in decreasing value of diameter i.e., the smallest disk is placed on the top and they are on rod A. The objective of the puzzle is to move the entire stack to another rod (here considered C), obeying the following simple rules:\n",
    "\n",
    "Only one disk can be moved at a time.\n",
    "Each move consists of taking the upper disk from one of the stacks and placing it on top of another stack i.e. a disk can only be moved if it is the uppermost disk on a stack.\n",
    "No disk may be placed on top of a smaller disk."
   ]
  },
  {
   "attachments": {
    "image.png": {
     "image/png": "[encoded data removed]"
    }
   },
   "cell_type": "markdown",
   "id": "c7ea8113",
   "metadata": {},
   "source": [
    "![image.png](attachment:image.png)"
   ]
  },
  {
   "cell_type": "code",
   "execution_count": null,
   "id": "275f1200",
   "metadata": {},
   "outputs": [
    {
     "name": "stdout",
     "output_type": "stream",
     "text": [
      "Move disk 1 from rod A to rod C\n",
      "Move disk 2 from rod A to rod C\n",
      "Move disk 1 from rod B to rod C\n",
      "Move disk 3 from rod A to rod C\n",
      "Move disk 1 from rod B to rod C\n",
      "Move disk 2 from rod B to rod C\n",
      "Move disk 1 from rod A to rod C\n",
      "None\n"
     ]
    }
   ],
   "source": [
    "def TowerofHanoi(n,from_rod,to_rod,aux_road):\n",
    "    if n==0:\n",
    "        return\n",
    "    TowerofHanoi(n-1,from_rod,to_rod,aux_road)\n",
    "    print(\"Move disk\", n, \"from rod\", from_rod, \"to rod\", to_rod)\n",
    "    TowerofHanoi(n-1,aux_road,to_rod,from_rod)\n",
    "\n",
    "N = 3\n",
    "\n",
    "# A, C, B are the name of rods\n",
    "print(TowerofHanoi(N, 'A', 'C', 'B'))\n",
    "\n",
    "# Time complexity: O(2N), There are two possibilities for every disk. Therefore, 2 * 2 * 2 * . . . * 2(N times) is 2N\n",
    "# Auxiliary Space: O(N), Function call stack space\n",
    "# Tower of Hanoi using Recursion\n",
    "#  The idea is to use the helper node to reach the destination using recursion. Below is the pattern for this problem:\n",
    "\n",
    "# Shift 'N-1' disks from 'A' to 'B', using C.\n",
    "# Shift last disk from 'A' to 'C'.\n",
    "# Shift 'N-1' disks from 'B' to 'C', using A.\n",
    "# Follow the steps below to solve the problem:\n",
    "\n",
    "# Create a function towerOfHanoi where pass the N (current number of disk), from_rod, to_rod, aux_rod.\n",
    "# Make a function call for N - 1 th disk.\n",
    "# Then print the current the disk along with from_rod and to_rod\n",
    "# Again make a function call for N - 1 th disk."
   ]
  },
  {
   "cell_type": "markdown",
   "id": "e9812aab",
   "metadata": {},
   "source": [
    "# Rat and Poisoned bottle Problem\n",
    "\n",
    "Given N number of bottles in which one bottle is poisoned. So the task is to find out the minimum number of rats required to identify the poisoned bottle. A rat can drink any number of bottles at a time and if any of the taken bottles is poisonous, then the rat dies and cannot drink anymore."
   ]
  },
  {
   "cell_type": "markdown",
   "id": "8fe43c91",
   "metadata": {},
   "source": [
    "For 2 bottles: Taking one rat (R1). If the rat R1 drinks the bottle 1 and dies, then bottle 1 is poisonous.\n",
    "Else the bottle 2 is poisonous. Hence 1 rat is enough to identify.\n",
    "For 3 bottles: Taking two rats (R1) and (R2). If the rat R1 drinks the bottle 1 and bottle 3 and dies, then bottle 1 or bottle 3 is poisonous. So the rat R2 drinks the bottle 1 then. If it dies, then the bottle 1 is poisonous, Else the bottle 3 is poisonous. \n",
    "Now if the rat R1 does not die after drinking from bottle 1 and bottle 3, then bottle 2 is poisonous. \n",
    "Hence 2 rats are enough to identify.  \n",
    "For 4 bottles: Taking two rats (R1) and (R2). If the rat R1 drinks the bottle 1 and bottle 3 and dies, then bottle 1 or bottle 3 is poisonous. \n",
    "So the rat R2 drinks the bottle 1 then. If it dies, then the bottle 1 is poisonous, Else the bottle 3 is poisonous. \n",
    "Now if the rat R1 does not die after drinking from bottle 1 and bottle 3, then bottle 2 or bottle 4 is poisonous. \n",
    "So the rat R1 drinks the bottle 2 then. If it dies, then the bottle 2 is poisonous, Else the bottle 4 is poisonous. \n",
    "Hence 2 rats are enough to identify.  \n",
    "For N bottles: Minimum number of rats required are = ceil(log2 N)."
   ]
  },
  {
   "cell_type": "code",
   "execution_count": 2,
   "id": "b386dc4b",
   "metadata": {},
   "outputs": [
    {
     "name": "stdout",
     "output_type": "stream",
     "text": [
      "11\n"
     ]
    }
   ],
   "source": [
    "import math\n",
    "\n",
    "def minRats(n):\n",
    "    return math.ceil(math.log2(n))\n",
    "\n",
    "print(minRats(1025))"
   ]
  },
  {
   "cell_type": "markdown",
   "id": "8aab68a5",
   "metadata": {},
   "source": [
    "# Euler's Totient Function\n",
    "\n",
    "Given an integer n, find the value of Euler's Totient Function, denoted as Φ(n). The function Φ(n) represents the count of positive integers less than or equal to n that are relatively prime to n."
   ]
  },
  {
   "cell_type": "code",
   "execution_count": null,
   "id": "f7418303",
   "metadata": {},
   "outputs": [
    {
     "name": "stdout",
     "output_type": "stream",
     "text": [
      "10\n"
     ]
    }
   ],
   "source": [
    "def gcd(a,b):\n",
    "    if a==0:\n",
    "        return b\n",
    "    return gcd(b%a,a)\n",
    "\n",
    "def ETF(n):\n",
    "    result=0\n",
    "    for i in range(1,n):\n",
    "        if gcd(i,n)==1:\n",
    "            result+=1\n",
    "    return result\n",
    "\n",
    "print(ETF(11))\n",
    "\n",
    "# Input: n = 11\n",
    "# Output: 10\n",
    "# Explanation: From 1 to 11, 1,2,3,4,5,6,7,8,9,10 are relatively prime to 11.\n",
    "\n",
    "# Input: n = 16\n",
    "# Output:  8\n",
    "# Explanation: From 1 to 16, 1,3,5,7,9,11,13,15  are relatively prime to 16.\n",
    "\n",
    "# [Naive Approach] Iterative GCD Method\n",
    "# A simple solution is to iterate through all numbers from 1 to n-1 and count numbers with gcd with n as 1. \n",
    "# Aboove is the implementation of the simple method to compute Euler's Totient function for an input integer n.\n",
    "# Time Complexity: O(n log n)\n",
    "# Auxiliary Space: O(log min(a,b)) where a,b are the parameters of gcd function."
   ]
  },
  {
   "cell_type": "code",
   "execution_count": null,
   "id": "63572056",
   "metadata": {},
   "outputs": [
    {
     "data": {
      "text/plain": [
       "10"
      ]
     },
     "execution_count": 8,
     "metadata": {},
     "output_type": "execute_result"
    }
   ],
   "source": [
    "def ETF(n):\n",
    "    result=n \n",
    "    for p in range(2,int(math.sqrt(n))+1):\n",
    "        if n%p==0:\n",
    "            while n%p:\n",
    "                n=n//p\n",
    "            result-=result//p\n",
    "    if n>1:\n",
    "        result-=result//n\n",
    "    return result\n",
    "\n",
    "ETF(11)\n",
    "\n",
    "# 1) Initialize result as n\n",
    "# 2) Consider every number 'p' (where 'p' varies from 2 to Φ(n)). \n",
    "#    If p divides n, then do following\n",
    "#    a) Subtract all multiples of p from 1 to n [all multiples of p\n",
    "#       will have gcd more than 1 (at least p) with n]\n",
    "#    b) Update n by repeatedly dividing it by p.\n",
    "# 3) If the reduced n is more than 1, then remove all multiples\n",
    "#    of n from result.\n",
    "# Time Complexity: O(√n)\n",
    "# Auxiliary Space: O(1)"
   ]
  },
  {
   "cell_type": "markdown",
   "id": "288a5375",
   "metadata": {},
   "source": [
    "# Josephus Problem\n",
    "\n",
    "There are N people standing in a circle waiting to be executed. The counting out begins at some point in the circle and proceeds around the circle in a fixed direction. In each step, a certain number of people are skipped and the next person is executed. The elimination proceeds around the circle (which is becoming smaller and smaller as the executed people are removed), until only the last person remains, who is given freedom. \n",
    "\n",
    "Given the total number of persons N and a number k which indicates that k-1 persons are skipped and the kth person is killed in a circle. The task is to choose the person in the initial circle that survives."
   ]
  },
  {
   "cell_type": "code",
   "execution_count": 3,
   "id": "3b4a0a9f",
   "metadata": {},
   "outputs": [
    {
     "name": "stdout",
     "output_type": "stream",
     "text": [
      "3\n"
     ]
    }
   ],
   "source": [
    "def Josephus(n,k):\n",
    "    ans=0\n",
    "    i=1\n",
    "    while i <= n:\n",
    "        ans = (ans+k)%i\n",
    "        i+=1\n",
    "    return ans + 1\n",
    "print(Josephus(5,2))\n",
    "# Time Complexity: O(n)\n",
    "# Auxiliary Space: O(1)\n",
    "# Input: N = 5 and k = 2\n",
    "# Output: 3\n",
    "# Explanation: Firstly, the person at position 2 is killed, \n",
    "# then the person at position 4 is killed, then the person at position 1 is killed. \n",
    "# Finally, the person at position 5 is killed. So the person at position 3 survives. \n",
    "\n",
    "# Input: N = 7 and k = 3\n",
    "# Output: 4\n",
    "# Explanations: The persons at positions 3, 6, 2, 7, 5, and 1 are killed in order, \n",
    "# and the person at position 4 survives.\n",
    "\n",
    "# Input: N = 6 and k = 2\n",
    "# Output: 5\n",
    "# Explanation: The persons at positions 2, 4, 6, 3, and 1 are killed in order, and the person at position 5 survives."
   ]
  },
  {
   "cell_type": "code",
   "execution_count": null,
   "id": "89d7711a",
   "metadata": {},
   "outputs": [],
   "source": []
  }
 ],
 "metadata": {
  "kernelspec": {
   "display_name": "Python 3",
   "language": "python",
   "name": "python3"
  },
  "language_info": {
   "codemirror_mode": {
    "name": "ipython",
    "version": 3
   },
   "file_extension": ".py",
   "mimetype": "text/x-python",
   "name": "python",
   "nbconvert_exporter": "python",
   "pygments_lexer": "ipython3",
   "version": "3.10.2"
  }
 },
 "nbformat": 4,
 "nbformat_minor": 5
}
