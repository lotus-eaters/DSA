{
 "cells": [
  {
   "cell_type": "markdown",
   "id": "8cc0a5c8",
   "metadata": {},
   "source": [
    "## LOGIC BUILING EASY LEVEL PROBLEMS"
   ]
  },
  {
   "cell_type": "markdown",
   "id": "c603ec90",
   "metadata": {},
   "source": [
    "# Sum of Digits of a Number\n",
    "\n",
    "Given a number n, find the sum of its digits.\n",
    "\n",
    "Examples : \n",
    "\n",
    "Input: n = 687\n",
    "Output: 21\n",
    "Explanation: The sum of its digits are: 6 + 8 + 7 = 21\n",
    "\n",
    "Input: n = 12\n",
    "Output: 3\n",
    "Explanation: The sum of its digits are: 1 + 2 = 3"
   ]
  },
  {
   "cell_type": "code",
   "execution_count": 1,
   "id": "9b98162b",
   "metadata": {},
   "outputs": [
    {
     "data": {
      "text/plain": [
       "'[Approach 1] Digit Extraction - O(log10n) Time and O(1) Space\\nWe can sum the digits of a number by repeatedly extracting the last digit using n % 10, \\nadding it to the sum, and then removing it by dividing n by 10 using integer division.'"
      ]
     },
     "execution_count": 1,
     "metadata": {},
     "output_type": "execute_result"
    }
   ],
   "source": [
    "def SumofDigits(n):\n",
    "    sum=0\n",
    "    while(n>0):\n",
    "        num=n%10\n",
    "        sum+=num\n",
    "        n=n//10\n",
    "    return sum\n",
    "SumofDigits(687)\n",
    "\n",
    "'''[Approach 1] Digit Extraction - O(log10n) Time and O(1) Space\n",
    "We can sum the digits of a number by repeatedly extracting the last digit using n % 10, \n",
    "adding it to the sum, and then removing it by dividing n by 10 using integer division.'''"
   ]
  },
  {
   "cell_type": "code",
   "execution_count": null,
   "id": "0d8db6e0",
   "metadata": {},
   "outputs": [
    {
     "name": "stdout",
     "output_type": "stream",
     "text": [
      "6\n"
     ]
    }
   ],
   "source": [
    "def sumofDigits(n):\n",
    "    if n==0:\n",
    "        return 0\n",
    "    return (n%10)+sumofDigits(n//10)\n",
    "print(sumofDigits(123))\n",
    "# [Approach 2] Using Recursion - O(log10n) Time and O(log10n) Space\n",
    " "
   ]
  },
  {
   "cell_type": "code",
   "execution_count": null,
   "id": "ec8fabeb",
   "metadata": {},
   "outputs": [
    {
     "name": "stdout",
     "output_type": "stream",
     "text": [
      "6\n"
     ]
    }
   ],
   "source": [
    "def sumofDigits(n):\n",
    "    ns=str(n)\n",
    "    res=0\n",
    "    for ch in ns:\n",
    "        res+=int(ch)\n",
    "    return res\n",
    "print(sumofDigits(123))\n",
    "# [Approach 3] String Conversion\n",
    "# Convert the number to a string and iterate through each character (digit). \n",
    "# For each character, subtract the ASCII value of '0' to get the actual digit, then add it to the sum.\n",
    "# Time Complexity: O(d) – we iterate over each of the d digits, where d ≈ log₁₀(n) (count of digits)\n",
    "# Auxiliary Space: O(d) - to store all d digits as characters.44"
   ]
  },
  {
   "cell_type": "markdown",
   "id": "8ca5a1ae",
   "metadata": {},
   "source": [
    "# program to reverse digits of a number\n",
    "\n",
    "Given an Integer n, find the reverse of its digits.\n",
    "\n",
    "Examples:  \n",
    "\n",
    "Input: n = 122\n",
    "Output: 221\n",
    "Explanation: By reversing the digits of number, number will change into 221.\n",
    "\n",
    "Input: n = 200\n",
    "Output: 2\n",
    "Explanation: By reversing the digits of number, number will change into 2.\n",
    "\n",
    "Input: n = 12345 \n",
    "Output: 54321\n",
    "Explanation: By reversing the digits of number, number will change into 54321."
   ]
  },
  {
   "cell_type": "code",
   "execution_count": null,
   "id": "3fdd6f32",
   "metadata": {},
   "outputs": [
    {
     "name": "stdout",
     "output_type": "stream",
     "text": [
      "321\n"
     ]
    }
   ],
   "source": [
    "def revdigits(num):\n",
    "    revnum=0\n",
    "    while(num>0):\n",
    "        rem=num%10\n",
    "        revnum=revnum*10+rem\n",
    "        num=num//10\n",
    "    return revnum\n",
    "print(revdigits(123))\n",
    "# Time Complexity - O(log n)\n",
    "# Space Complexity - O(1)"
   ]
  },
  {
   "cell_type": "code",
   "execution_count": 2,
   "id": "ef13b07c",
   "metadata": {},
   "outputs": [
    {
     "name": "stdout",
     "output_type": "stream",
     "text": [
      "Data mapping complete. Updated Excel file saved to D:\\KPI\\235.4\\output.xlsx\n"
     ]
    }
   ],
   "source": [
    "import pandas as pd\n",
    "\n",
    "def map_excel_data(excel1_path, excel2_path, output_path):\n",
    "    \"\"\"\n",
    "    Compares 'CarRecordingID' column of two Excel files, maps data from excel1 to excel2\n",
    "    and saves the updated excel2 to a new file.\n",
    "\n",
    "    Args:\n",
    "        excel1_path (str): Path to the first Excel file (source).\n",
    "        excel2_path (str): Path to the second Excel file (destination).\n",
    "        output_path (str): Path to save the updated Excel file.\n",
    "    \"\"\"\n",
    "\n",
    "    try:\n",
    "        # Read both Excel files into pandas DataFrames\n",
    "        df1 = pd.read_excel(excel1_path)\n",
    "        df2 = pd.read_excel(excel2_path)\n",
    "\n",
    "        # Set 'CarRecordingID' as index in both DataFrames for efficient lookup\n",
    "        df1 = df1.set_index('CarRecordingID')\n",
    "        df2 = df2.set_index('CarRecordingID')\n",
    "\n",
    "        # Columns to populate from excel1 to excel2\n",
    "        columns_to_populate = [\n",
    "            'Driver_Actual',\n",
    "            'Passenger_Actual',\n",
    "            'FrontMiddlePassenger_Actual',\n",
    "            'RearMiddlePassenger_Actual',\n",
    "            'RearLeft_Passenger_Actual',\n",
    "            'RearRight_Passenger_Actual'\n",
    "        ]\n",
    "\n",
    "        # Iterate through the index of df2 (excel2)\n",
    "        for car_recording_id in df2.index:\n",
    "            if car_recording_id in df1.index:\n",
    "                # Map the data from df1 to df2 based on 'CarRecordingID'\n",
    "                df2.loc[car_recording_id, columns_to_populate] = df1.loc[car_recording_id, columns_to_populate].values\n",
    "\n",
    "        # Reset index\n",
    "        df1 = df1.reset_index()\n",
    "        df2 = df2.reset_index()\n",
    "\n",
    "        # Save the updated DataFrame (df2) to a new Excel file\n",
    "        df2.to_excel(output_path, index=False)\n",
    "\n",
    "        print(f\"Data mapping complete. Updated Excel file saved to {output_path}\")\n",
    "\n",
    "    except FileNotFoundError:\n",
    "        print(\"Error: One or both of the specified Excel files were not found.\")\n",
    "    except KeyError as e:\n",
    "        print(f\"Error: Column '{e}' not found in one of the Excel files.\")\n",
    "    except Exception as e:\n",
    "        print(f\"An unexpected error occurred: {e}\")\n",
    "\n",
    "# Example usage:\n",
    "excel1_path = r\"D:\\KPI\\235.4\\Data_correction_167_540.xlsx\"  # Replace with the actual path to your first Excel file\n",
    "excel2_path = r\"D:\\KPI\\235.4\\167_540_Corrections.xlsx\"  # Replace with the actual path to your second Excel file\n",
    "output_path = r\"D:\\KPI\\235.4\\output.xlsx\"  # Replace with the desired path for the output Excel file\n",
    "\n",
    "map_excel_data(excel1_path, excel2_path, output_path)"
   ]
  },
  {
   "cell_type": "code",
   "execution_count": 6,
   "id": "60003322",
   "metadata": {},
   "outputs": [
    {
     "name": "stdout",
     "output_type": "stream",
     "text": [
      "Comparison complete. Highlighted Excel file saved to D:\\KPI\\235.4\\output_highlighted.xlsx\n"
     ]
    }
   ],
   "source": [
    "import pandas as pd\n",
    "\n",
    "def compare_and_highlight_by_carrecordingid(excel_file, output_file):\n",
    "    \"\"\"\n",
    "    Compares specified columns in an Excel file, matching rows based on 'CarRecordingID',\n",
    "    and highlights mismatches.\n",
    "\n",
    "    Args:\n",
    "        excel_file (str): Path to the Excel file.\n",
    "        output_file (str): Path to save the Excel file with highlighted mismatches.\n",
    "    \"\"\"\n",
    "\n",
    "    try:\n",
    "        # Read the Excel file into a pandas DataFrame\n",
    "        df = pd.read_excel(excel_file)\n",
    "\n",
    "        # Define the column pairs to compare\n",
    "        column_pairs = {\n",
    "            'Driver_Metadata': 'Driver_Actual',\n",
    "            'Passenger_Metadata': 'Passenger_Actual',\n",
    "            'MiddlePassenger_Metadata': 'RearMiddlePassenger_Actual',\n",
    "            'LeftPassenger_Metadata': 'RearLeft_Passenger_Actual',\n",
    "            'RightPassenger_Metadata': 'RearRight_Passenger_Actual',\n",
    "            'FrontMiddlePassenger_Metadata': 'FrontMiddlePassenger_Actual'\n",
    "        }\n",
    "\n",
    "        # Create a style function to highlight mismatches\n",
    "        def highlight_mismatches(row):\n",
    "            # Initialize an empty list to store the styles for each column\n",
    "            styles = [''] * len(row)  # Default: no style for any column\n",
    "\n",
    "            for idx, (metadata_col, actual_col) in enumerate(column_pairs.items()):\n",
    "                try:\n",
    "                    if row[metadata_col] != row[actual_col]:\n",
    "                        # Apply yellow background to both the Metadata and Actual columns\n",
    "                        metadata_col_idx = df.columns.get_loc(metadata_col)\n",
    "                        actual_col_idx = df.columns.get_loc(actual_col)\n",
    "\n",
    "                        styles[metadata_col_idx] = 'background-color: yellow'\n",
    "                        styles[actual_col_idx] = 'background-color: yellow'\n",
    "\n",
    "                except KeyError as e:\n",
    "                    print(f\"Error: Column '{e}' not found in row. Check column names and case. Column name: {e}\")\n",
    "                except Exception as e:\n",
    "                    print(f\"An unexpected error occurred while comparing columns: {e}\")\n",
    "\n",
    "            return styles\n",
    "\n",
    "        # Apply the style function to the DataFrame\n",
    "        styled_df = df.style.apply(highlight_mismatches, axis=1)\n",
    "\n",
    "        # Save the styled DataFrame to an Excel file\n",
    "        styled_df.to_excel(output_file, index=False, engine='openpyxl')\n",
    "\n",
    "        print(f\"Comparison complete. Highlighted Excel file saved to {output_file}\")\n",
    "\n",
    "    except FileNotFoundError:\n",
    "        print(\"Error: The specified Excel file was not found.\")\n",
    "    except KeyError as e:\n",
    "        print(f\"Error: Column '{e}' not found in the Excel file. Check column names and case. Column name: {e}\")\n",
    "    except Exception as e:\n",
    "        print(f\"An unexpected error occurred: {e}\")\n",
    "\n",
    "# Example usage\n",
    "\n",
    "\n",
    "\n",
    "# Example usage:\n",
    "excel_file = r\"D:\\KPI\\235.4\\output.xlsx\"  # Replace with the actual path to your Excel file\n",
    "output_file = r\"D:\\KPI\\235.4\\output_highlighted.xlsx\" # Replace with the desired path for the output Excel file\n",
    "\n",
    "\n",
    "compare_and_highlight_by_carrecordingid(excel_file, output_file)\n",
    "\n"
   ]
  },
  {
   "cell_type": "code",
   "execution_count": null,
   "id": "54b6fccf",
   "metadata": {},
   "outputs": [],
   "source": [
    "def reverseDigits(n, revNum, basePos):\n",
    "    if n > 0:\n",
    "        reverseDigits(n // 10, revNum, basePos)  \n",
    "        revNum[0] += (n % 10) * basePos[0]       \n",
    "        basePos[0] *= 10                         \n",
    "\n",
    "# Driver code\n",
    "n = 4562\n",
    "revNum = [0]  \n",
    "basePos = [1]  \n",
    "reverseDigits(n, revNum, basePos)\n",
    "print(revNum[0])\n",
    "#program to rever the disgits of a number using recursion\n",
    "# Time Complexity - O(log n)\n",
    "# Space Complexity - O(log n)"
   ]
  },
  {
   "cell_type": "code",
   "execution_count": null,
   "id": "81839842",
   "metadata": {},
   "outputs": [
    {
     "name": "stdout",
     "output_type": "stream",
     "text": [
      "432\n"
     ]
    }
   ],
   "source": [
    "def reverseDigits(n):\n",
    "    s=str(n)\n",
    "\n",
    "    s=list(s)\n",
    "    s.reverse()\n",
    "    s=''.join(s)\n",
    "\n",
    "    n=int(s)\n",
    "    return n\n",
    "\n",
    "print(reverseDigits(234))\n",
    "# Time Complexity - O(log n)\n",
    "# Space Complexity - O(1)\n",
    "\n",
    "# Note: The above program doesn't consider leading zeroes. For example, for 100 programs will print 1. If you want to print 001\n"
   ]
  },
  {
   "cell_type": "code",
   "execution_count": 11,
   "id": "cb4be698",
   "metadata": {},
   "outputs": [
    {
     "data": {
      "text/plain": [
       "34567898765"
      ]
     },
     "execution_count": 11,
     "metadata": {},
     "output_type": "execute_result"
    }
   ],
   "source": [
    "'''Using String and Slicing in Python\n",
    "The approach used is \"Using Slicing\". This technique involves converting the number into a string,\n",
    " then reversing that string by using slicing operations. After reversing, the string is converted back into a number. \n",
    " This method is simple and efficient but requires additional space for storing the string representation of the number.'''\n",
    "\n",
    "def reverseDigits(n):\n",
    "    s=str(n)\n",
    "    s=s[::-1]\n",
    "    n=int(s)\n",
    "    return n\n",
    "reverseDigits(56789876543)\n",
    "# Time Complexity - O(n)\n",
    "# Space Complexity - O(n)"
   ]
  },
  {
   "cell_type": "code",
   "execution_count": 36,
   "id": "4b2ca97f",
   "metadata": {},
   "outputs": [
    {
     "name": "stdout",
     "output_type": "stream",
     "text": [
      "Query results successfully dumped to D:\\KPI\\235.4\\incorrect_recordings-244-annotations.csv\n"
     ]
    }
   ],
   "source": [
    "import sqlite3\n",
    "import pandas as pd\n",
    "\n",
    "def execute_query_and_dump_to_csv(db_path, sql_query, output_csv_path):\n",
    "    \"\"\"\n",
    "    Execute a SQL query on a database and dump the results to a CSV file.\n",
    "\n",
    "    Args:\n",
    "        db_path (str): Path to the SQLite database file.\n",
    "        sql_query (str): SQL query to execute.\n",
    "        output_csv_path (str): Path to the output CSV file.\n",
    "    \"\"\"\n",
    "    try:\n",
    "        # Connect to the SQLite database\n",
    "        conn = sqlite3.connect(db_path)\n",
    "        \n",
    "        # Execute the SQL query and fetch the results into a DataFrame\n",
    "        df = pd.read_sql_query(sql_query, conn)\n",
    "        \n",
    "        # Dump the DataFrame to a CSV file\n",
    "        df.to_csv(output_csv_path, index=False)\n",
    "        \n",
    "        print(f\"Query results successfully dumped to {output_csv_path}\")\n",
    "    \n",
    "    except sqlite3.Error as e:\n",
    "        print(f\"An error occurred: {e}\")\n",
    "    \n",
    "    finally:\n",
    "        # Close the database connection\n",
    "        if conn:\n",
    "            conn.close()\n",
    "\n",
    "# Example usage\n",
    "db_path = r\"D:\\KPI\\235.4\\SOD_merge_database_18_09_2025_1.db\"  # Replace with your database path\n",
    "sql_query = '''select distinct A.ParticipantID,B.file_info_id, B.CarRecordingID,\n",
    "                A.Driver, A.Passenger, A.MiddlePassenger, A.LeftPassenger, A.RightPassenger,B.DatasetID,A.Requirement_Id,\n",
    "                C.DriverSeat_Occupant, C.PassengerSeat_Occupant, C.MiddlePassengerSeat_Occupant, C.LeftPassengerSeat_Occupant, C.RightPassengerSeat_Occupant\n",
    "                from Metadata A\n",
    "                inner join\n",
    "                ImageName_Table B\n",
    "                on A.CarRecordingID = B.CarRecordingID\n",
    "                inner join \n",
    "                SeatOccupantDetails_Table C\n",
    "                on B.file_info_id = C.file_info_id\n",
    "                where B.carRecordingID like '%AMX244%'and A.Requirement_Id NOT IN ('2.22_SB', '2.23_SB', '2.24_SB');'''  # Replace with your SQL query\n",
    "output_csv_path = r\"D:\\KPI\\235.4\\incorrect_recordings-244-annotations.csv\"  # Replace with your desired output CSV path\n",
    "\n",
    "execute_query_and_dump_to_csv(db_path, sql_query, output_csv_path)"
   ]
  },
  {
   "cell_type": "code",
   "execution_count": null,
   "id": "515470ec",
   "metadata": {},
   "outputs": [],
   "source": [
    "import pandas as pd\n",
    "\n",
    "def remove_duplicate_file_info_ids(csv_file_path, output_file_path):\n",
    "    # Read the CSV file into a DataFrame\n",
    "    df = pd.read_csv(csv_file_path)\n",
    "\n",
    "    # Identify duplicated file_info_id values\n",
    "    duplicated_file_info_ids = df[df.duplicated('file_info_id', keep=False)]\n",
    "\n",
    "    # Remove rows with duplicated file_info_id values\n",
    "    df_cleaned = df.drop(duplicated_file_info_ids.index)\n",
    "\n",
    "    # Save the cleaned DataFrame to a new CSV file\n",
    "    df_cleaned.to_csv(output_file_path, index=False)\n",
    "\n",
    "    print(f\"Rows with duplicated file_info_ids have been removed. Cleaned data saved to {output_file_path}.\")\n",
    "\n",
    "# Example usage\n",
    "csv_file_path = 'your_file.csv'  # Replace with your CSV file path\n",
    "output_file_path = 'cleaned_file.csv'  # Specify the output file path\n",
    "remove_duplicate_file_info_ids(csv_file_path, output_file_path)"
   ]
  },
  {
   "cell_type": "code",
   "execution_count": 34,
   "id": "001f0b84",
   "metadata": {},
   "outputs": [
    {
     "name": "stdout",
     "output_type": "stream",
     "text": [
      "Carrecording IDs with repeated file_info_ids:\n",
      "AMX244_176_1000682734_20250804_172905\n",
      "AMX244_176_1031273840_20250815_173039\n",
      "AMX244_176_1035232770_20250814_173107\n",
      "AMX244_176_1054524238_20250806_113001\n",
      "AMX244_176_1066292554_20250805_195205\n",
      "AMX244_176_1077607252_20250804_154406\n",
      "AMX244_176_1085860775_20250808_110359\n",
      "AMX244_176_1087853999_20250815_142152\n",
      "AMX244_176_1090737575_20250808_113258\n",
      "AMX244_176_1094914704_20250729_103706\n",
      "AMX244_176_1106062552_20250807_171123\n",
      "AMX244_176_1109433914_20250814_145215\n",
      "AMX244_176_1112636265_20250814_164900\n",
      "AMX244_176_1114661853_20250729_111034\n",
      "AMX244_176_1117296005_20250807_152255\n",
      "AMX244_176_1129505203_20250805_203327\n",
      "AMX244_176_1133403983_20250805_172936\n",
      "AMX244_176_1141565319_20250815_143850\n",
      "AMX244_176_1142670406_20250804_110619\n",
      "AMX244_176_1147210528_20250807_163632\n",
      "AMX244_176_1162941573_20250805_201851\n",
      "AMX244_176_1167601039_20250806_110009\n",
      "AMX244_176_1168254831_20250804_114554\n",
      "AMX244_176_1185322655_20250806_123211\n",
      "AMX244_176_1189768619_20250804_162004\n",
      "AMX244_176_1200019534_20250806_141725\n",
      "AMX244_176_1208644562_20250805_193139\n",
      "AMX244_176_1213591150_20250804_141442\n",
      "AMX244_176_1218616326_20250807_145655\n",
      "AMX244_176_1229604587_20250804_170653\n",
      "AMX244_176_1237428683_20250808_120146\n",
      "AMX244_176_1237812090_20250805_105153\n",
      "AMX244_176_1239108344_20250807_175516\n",
      "AMX244_176_1269830381_20250804_163416\n",
      "AMX244_176_1281048353_20250814_171653\n",
      "AMX244_176_1286407356_20250815_142812\n",
      "AMX244_176_1289271746_20250815_144254\n",
      "AMX244_176_1299397893_20250805_151242\n",
      "AMX244_176_1310289010_20250806_115446\n",
      "AMX244_176_1316884950_20250807_181244\n",
      "AMX244_176_1320131547_20250806_163032\n",
      "AMX244_176_1322218178_20250814_162525\n",
      "AMX244_176_1329339866_20250806_121856\n",
      "AMX244_176_1341320839_20250805_121131\n",
      "AMX244_176_1343695049_20250807_190453\n",
      "AMX244_176_1347358227_20250805_180405\n",
      "AMX244_176_1355924059_20250805_182423\n",
      "AMX244_176_1362255174_20250815_141107\n",
      "AMX244_176_1392590903_20250805_185325\n",
      "AMX244_176_1395425029_20250806_182713\n"
     ]
    }
   ],
   "source": [
    "import pandas as pd\n",
    "\n",
    "def find_repeated_file_info_ids(csv_file_path):\n",
    "    # Read the CSV file into a DataFrame\n",
    "    df = pd.read_csv(csv_file_path)\n",
    "\n",
    "    # Group by 'carrecordingid' and 'file_info_id', then count occurrences\n",
    "    grouped = df.groupby(['CarRecordingID', 'file_info_id']).size()\n",
    "\n",
    "    # Find carrecordingid with multiple file_info_ids\n",
    "    repeated_ids = grouped.groupby(level=0).filter(lambda x: len(x) > 1).index.get_level_values(0).unique()\n",
    "\n",
    "    # Print the carrecordingid values with repeated file_info_ids\n",
    "    print(\"Carrecording IDs with repeated file_info_ids:\")\n",
    "    for carrecordingid in repeated_ids:\n",
    "        print(carrecordingid)\n",
    "\n",
    "# Example usage\n",
    "csv_file_path = r\"D:\\KPI\\235.4\\244_incorrect_recordings.csv\"  # Replace with your CSV file path\n",
    "find_repeated_file_info_ids(csv_file_path)"
   ]
  },
  {
   "cell_type": "markdown",
   "id": "a3e91c3a",
   "metadata": {},
   "source": [
    "#Check is a number is Prime\n",
    "Given a positive integer, check if the number is prime or not. A prime is a natural number greater than 1 that has no positive divisors other than 1 and itself. Examples of the first few prime numbers are {2, 3, 5, ...}\n",
    "Examples : \n",
    "\n",
    "Input:  n = 11\n",
    "Output: true\n",
    "\n",
    "Input:  n = 15\n",
    "Output: false\n",
    "\n",
    "Input:  n = 1\n",
    "Output: false "
   ]
  },
  {
   "cell_type": "code",
   "execution_count": null,
   "id": "f583bae9",
   "metadata": {},
   "outputs": [
    {
     "name": "stdout",
     "output_type": "stream",
     "text": [
      "False\n"
     ]
    }
   ],
   "source": [
    "def isPrime(n):\n",
    "    if n<=1:\n",
    "       return False\n",
    "    for i in range(2,n):\n",
    "        if n%i==0:\n",
    "            return False\n",
    "    return True\n",
    "print(isPrime(44))\n",
    "\n",
    "# Time complexity: O(n)\n",
    "# Auxiliary Space: O(1)"
   ]
  },
  {
   "cell_type": "code",
   "execution_count": null,
   "id": "78585cd5",
   "metadata": {},
   "outputs": [
    {
     "name": "stdout",
     "output_type": "stream",
     "text": [
      "True\n"
     ]
    }
   ],
   "source": [
    "import math\n",
    "def isPrime(n):\n",
    "    if n<=1:\n",
    "        return False\n",
    "    for i in range (2,int(math.sqrt(n))):\n",
    "        if n%i==0:\n",
    "            return False\n",
    "    return True\n",
    "print(isPrime(11))\n",
    "\n",
    "# Time Complexity: O(√n)\n",
    "# Auxiliary Space: O(1)"
   ]
  },
  {
   "cell_type": "code",
   "execution_count": null,
   "id": "def6cb08",
   "metadata": {},
   "outputs": [
    {
     "name": "stdout",
     "output_type": "stream",
     "text": [
      "True\n",
      "False\n"
     ]
    }
   ],
   "source": [
    "# Another approach\n",
    "# It is based on the fact that all primes greater than 3 are of the form 6k ± 1,\n",
    "# where k is any integer greater than 0. This is because all integers can be expressed as (6k + i), \n",
    "# where i = −1, 0, 1, 2, 3, or 4. And note that 2 divides (6k + 0), (6k + 2), and (6k + 4) and 3 divides (6k + 3). \n",
    "# So, a more efficient method is to test whether n is divisible by 2 or 3, then to check through all numbers of the form\n",
    "#  6k ± 1 <= √n. This is 3 times faster than testing all numbers up to √n.\n",
    "\n",
    "# Python program to check the given number\n",
    "# is prime or not\n",
    "\n",
    "# Function to check if the given number\n",
    "# is prime or not.\n",
    "import math\n",
    "\n",
    "def isPrime(n):\n",
    "    if n == 2 or n == 3:\n",
    "        return True\n",
    "    elif n <= 1 or n % 2 == 0 or n % 3 == 0:\n",
    "        return False\n",
    "      \n",
    "        # To check through all numbers of the form 6k ± 1\n",
    "    # until i <= square root of n, with step value 6\n",
    "    for i in range(5, int(math.sqrt(n))+1, 6):\n",
    "        if n % i == 0 or n % (i+2) == 0:\n",
    "            return False\n",
    "\n",
    "    return True\n",
    "\n",
    "# # Driver code\n",
    "print(isPrime(11))\n",
    "print(isPrime(20))\n",
    "\n",
    "# Time Complexity: O(√n)\n",
    "# Auxiliary Space: O(1)\n"
   ]
  },
  {
   "cell_type": "code",
   "execution_count": null,
   "id": "61d3d72a",
   "metadata": {},
   "outputs": [
    {
     "name": "stdout",
     "output_type": "stream",
     "text": [
      "True\n",
      "False\n",
      "True\n",
      "False\n"
     ]
    }
   ],
   "source": [
    "def isPower(x, y):\n",
    "    # The only power of 1 is 1 itself\n",
    "    if x == 1:\n",
    "        return y == 1\n",
    "\n",
    "    # Repeatedly compute power of x\n",
    "    num=1\n",
    "    while num<y:\n",
    "        num*=x\n",
    "    if num==y:\n",
    "        return True\n",
    "    return False\n",
    "\n",
    "if __name__ == '__main__':\n",
    "    print(isPower(10, 1))\n",
    "    print(isPower(1, 20))\n",
    "    print(isPower(2, 128))\n",
    "    print(isPower(2, 30))\n",
    "# Time complexity: O(Logxy)\n",
    "# Auxiliary space: O(1)"
   ]
  },
  {
   "cell_type": "code",
   "execution_count": null,
   "id": "b7e54296",
   "metadata": {},
   "outputs": [
    {
     "name": "stdout",
     "output_type": "stream",
     "text": [
      "true\n",
      "false\n",
      "true\n",
      "false\n"
     ]
    }
   ],
   "source": [
    "'''[Better Approach] Exponentiation and Binary Search Method\n",
    "This approach efficiently checks if a number y is a power of another number x by leveraging exponential growth and binary search. \n",
    "It first attempts to reach or exceed y by repeatedly squaring x, which significantly reduces the number of multiplications \n",
    "compared to simple iteration. If the squared value matches y, the function returns true. \n",
    "If it overshoots y, a binary search is performed between the last two computed powers of x to find an exact match.'''\n",
    "\n",
    "import math\n",
    "def power(x,y):\n",
    "    if(x==1):\n",
    "        return 1\n",
    "    num=1\n",
    "    while num<y:\n",
    "        num*=x\n",
    "        if num==y:\n",
    "            return True\n",
    "   \n",
    "\n",
    "    low=x,high=y,\n",
    "    while low<=high:\n",
    "        mid=low + (low+high)//2\n",
    "        result=(x**(int(math.log(mid)/math.log(x))))\n",
    "        if result==y:\n",
    "            return True\n",
    "        if result<y:\n",
    "            low=mid+1\n",
    "        else:\n",
    "            high=mid-1\n",
    "\n",
    "    return False\n",
    "\n",
    "print(\"true\" if isPower(10, 1) else \"false\")\n",
    "print(\"true\" if isPower(1, 20) else \"false\")\n",
    "print(\"true\" if isPower(2, 128) else \"false\")\n",
    "print(\"true\" if isPower(2, 30) else \"false\")\n",
    "\n",
    "# Time Complexity - O(log log y)\n",
    "# Auxiliary Space - O(1)\n"
   ]
  },
  {
   "cell_type": "code",
   "execution_count": null,
   "id": "edfa6644",
   "metadata": {},
   "outputs": [
    {
     "name": "stdout",
     "output_type": "stream",
     "text": [
      "False\n",
      "True\n"
     ]
    }
   ],
   "source": [
    "'''[Expected Approach] Logarithmic Method\n",
    "This approach checks if y is a power of x using logarithms. By applying the logarithm change of base formula, \n",
    "it computes log⁡y(x)=log⁡(y)/log⁡(x). If the result is an integer, it means that y is an exact power of x, and the \n",
    "function returns true. Otherwise, it returns false.'''\n",
    "import math\n",
    "def isPower(x,y):\n",
    "    result=math.log(y)/math.log(x)\n",
    "    return result==math.floor(result)\n",
    "print(isPower(2,26))\n",
    "print(isPower(2,16))\n",
    "# Time complexity: O(1)\n",
    "# Auxiliary space: O(1)"
   ]
  },
  {
   "attachments": {
    "image.png": {
     "image/png": "[encoded data removed]"
    }
   },
   "cell_type": "markdown",
   "id": "25933884",
   "metadata": {},
   "source": [
    "#Program to calculate distance between two points\n",
    "You are given two coordinates (x1, y1) and (x2, y2) of a two-dimensional graph. Find the distance between them.\n",
    "\n",
    "Examples: \n",
    "\n",
    "Input : x1, y1 = (3, 4)\n",
    "           x2, y2 = (7, 7)\n",
    "Output : 5\n",
    "\n",
    "Input : x1, y1 = (3, 4) \n",
    "           x2, y2 = (4, 3)\n",
    "Output : 1.41421\n",
    "![image.png](attachment:image.png)"
   ]
  },
  {
   "cell_type": "code",
   "execution_count": 26,
   "id": "b5705779",
   "metadata": {},
   "outputs": [
    {
     "name": "stdout",
     "output_type": "stream",
     "text": [
      "1.4142135623730951\n"
     ]
    }
   ],
   "source": [
    "'''Calculate the distance between two points.\n",
    "We will use the distance formula derived from Pythagorean theorem.\n",
    "The formula for distance between two point (x1, y1) and (x2, y2) is'''\n",
    "import math\n",
    "def DistanceBetweenTwoPoints(x1,y1,x2,y2):\n",
    "    return math.sqrt(math.pow(x2-x1,2)+math.pow(y2-y1,2))\n",
    "\n",
    "print(DistanceBetweenTwoPoints(3, 4, 4, 3))"
   ]
  },
  {
   "attachments": {
    "image.png": {
     "image/png": "[encoded data removed]"
    }
   },
   "cell_type": "markdown",
   "id": "f7085a37",
   "metadata": {},
   "source": [
    "#Check whether triangle is valid or not if sides are given\n",
    "\n",
    "Given three sides, check whether triangle is valid or not. \n",
    "\n",
    "Examples:  \n",
    "\n",
    "Input :  a = 7, b = 10, c = 5 \n",
    "Output : Valid\n",
    "We can draw a triangle with the given three edge lengths.\n",
    "\n",
    "Input : a = 1, b = 10, c = 12 \n",
    "Output : Invalid\n",
    "We can not draw a triangle with the given three edge lengths.\n",
    "![image.png](attachment:image.png)"
   ]
  },
  {
   "cell_type": "code",
   "execution_count": null,
   "id": "e5959eb5",
   "metadata": {},
   "outputs": [
    {
     "name": "stdout",
     "output_type": "stream",
     "text": [
      "True\n"
     ]
    }
   ],
   "source": [
    "def isValidTriangle(a,b,c):\n",
    "    if (a+b>c) or (b+c>a) or (a+c>b):\n",
    "        return True\n",
    "    return False\n",
    "print(isValidTriangle(7,10,5))\n",
    "\n",
    "# Time Complexity: O(1)\n",
    "# Auxiliary Space: O(1)"
   ]
  },
  {
   "attachments": {
    "image.png": {
     "image/png": "[encoded data removed]"
    }
   },
   "cell_type": "markdown",
   "id": "eb163543",
   "metadata": {},
   "source": [
    "#Find if two rectangles overlap\n",
    "\n",
    "Given two rectangles, find if the given two rectangles overlap or not.\n",
    "Note that a rectangle can be represented by two coordinates, top left and bottom right. So mainly we are given following four coordinates. \n",
    "l1: Top Left coordinate of first rectangle. \n",
    "r1: Bottom Right coordinate of first rectangle. \n",
    "l2: Top Left coordinate of second rectangle. \n",
    "r2: Bottom Right coordinate of second rectangle.\n",
    "Note : It may be assumed that the rectangles are parallel to the coordinate axis.\n",
    "One solution is to one by one pick all points of one rectangle and see if the point lies inside the other rectangle or not. This can be done using the algorithm discussed here. \n",
    "Following is a simpler approach. Two rectangles do not overlap if one of the following conditions is true. \n",
    "1) One rectangle is above top edge of other rectangle. \n",
    "2) One rectangle is on left side of left edge of other rectangle.\n",
    "We need to check above cases to find out if given rectangles overlap or not.\n",
    "![image.png](attachment:image.png)\n",
    "\n"
   ]
  },
  {
   "cell_type": "code",
   "execution_count": 41,
   "id": "f1971afc",
   "metadata": {},
   "outputs": [
    {
     "name": "stdout",
     "output_type": "stream",
     "text": [
      "They Overlap\n"
     ]
    }
   ],
   "source": [
    "class Point:\n",
    "    def __init__(self,x,y):\n",
    "        self.x=x\n",
    "        self.y=y\n",
    "def doOverLap(l1,r1,l2,r2):\n",
    "    if l1.x>r2.x or l2.x>r1.x:\n",
    "        return True\n",
    "    if l1.y>r2.y or l2.y>r1.y:\n",
    "        return True\n",
    "l1 = Point(0, 10)\n",
    "r1 = Point(10, 0)\n",
    "l2 = Point(5, 5)\n",
    "r2 = Point(15, 0)    \n",
    "if(doOverLap(l1,r1,l2,r2)):\n",
    "    print(\"They Overlap\")\n",
    "else:\n",
    "    print(\"They don't overlap\")\n",
    "    "
   ]
  },
  {
   "cell_type": "markdown",
   "id": "62818457",
   "metadata": {},
   "source": [
    "#Factorial of a Number\n",
    "\n",
    "Given the non-negative integers n , compute the factorial of a given number.\n",
    "Note: Factorial of n is defined as n * (n -1) * (n - 2) * ... * 1, for n = 0, factorial is 1."
   ]
  },
  {
   "cell_type": "code",
   "execution_count": null,
   "id": "c41b09a4",
   "metadata": {},
   "outputs": [
    {
     "data": {
      "text/plain": [
       "6"
      ]
     },
     "execution_count": 44,
     "metadata": {},
     "output_type": "execute_result"
    }
   ],
   "source": [
    "def Factorial(n):\n",
    "    result=1\n",
    "    for i in range(2,n+1):\n",
    "        result*=i\n",
    "        i+=1\n",
    "    return result\n",
    "Factorial(3)\n",
    "# [Approach - 1] - Iterative Solution O(n) Time and O(1) Space\n",
    "# The idea is simple, we initialize result as 1. Then, run a loop from 1 to n and multiply every number with result.\n"
   ]
  },
  {
   "attachments": {
    "image.png": {
     "image/png": "[encoded data removed]"
    }
   },
   "cell_type": "markdown",
   "id": "50aa379b",
   "metadata": {},
   "source": [
    "![image.png](attachment:image.png)"
   ]
  },
  {
   "cell_type": "code",
   "execution_count": 47,
   "id": "7985c9dc",
   "metadata": {},
   "outputs": [
    {
     "data": {
      "text/plain": [
       "6"
      ]
     },
     "execution_count": 47,
     "metadata": {},
     "output_type": "execute_result"
    }
   ],
   "source": [
    "def Factorial(n):\n",
    "    if n==0:\n",
    "        return 1\n",
    "    return n*Factorial(n-1)\n",
    "Factorial(3)\n",
    "#[Another Approach]- Recursive Solution O(n) Time and O(n) Space"
   ]
  },
  {
   "cell_type": "markdown",
   "id": "c377ddfe",
   "metadata": {},
   "source": [
    "#Pair Cube Count\n",
    "\n",
    "Given n, count all 'a' and 'b' that satisfy the condition a^3 + b^3 = n. Where (a, b) and (b, a) are considered two different pairs\n",
    "\n",
    "Examples: \n",
    "\n",
    "Input: n = 9\n",
    "Output: 2\n",
    "Explanation: 1^3 + 2^3 = 9 and 2^3 + 1^3 = 9\n",
    "\n",
    "Input: n = 28\n",
    "Output: 2\n",
    "Explanation: 1^3 + 3^3 = 28 and 3^3 + 1^3 = 28"
   ]
  },
  {
   "cell_type": "code",
   "execution_count": null,
   "id": "5b6dfa77",
   "metadata": {},
   "outputs": [
    {
     "name": "stdout",
     "output_type": "stream",
     "text": [
      "1\n"
     ]
    }
   ],
   "source": [
    "def pairCubeCount(n):\n",
    "    count=0\n",
    "    for a in range(1,n+1):\n",
    "        for b in range(n+1):\n",
    "            if math.pow(a,3) + math.pow(b,3) == n:\n",
    "                count+=1\n",
    "                break\n",
    "    return count\n",
    "print(pairCubeCount(16))\n",
    "# [Naive Approach] Using Nested Loops - O(n^2) time and O(1) space\n",
    "# The approach uses a nested loop to check all pairs (a, b) where a3+b3=n. If the condition holds, the count is incremented."
   ]
  },
  {
   "cell_type": "code",
   "execution_count": null,
   "id": "9c20bba9",
   "metadata": {},
   "outputs": [
    {
     "name": "stdout",
     "output_type": "stream",
     "text": [
      "2\n"
     ]
    }
   ],
   "source": [
    "def pairCubeCount(n):\n",
    "    count=0\n",
    "    for i in range(1,int(math.pow(n,1/3))+1):\n",
    "        cur_cube=i*i*i\n",
    "        cur_cube_diff_n=n-cur_cube\n",
    "        cur_cube_diff_n_root=round(math.pow(cur_cube_diff_n,1/3))\n",
    "        if cur_cube_diff_n_root*cur_cube_diff_n_root*cur_cube_diff_n_root ==cur_cube_diff_n:\n",
    "            count+=1\n",
    "    return count\n",
    "print(pairCubeCount(9))\n",
    "\n",
    "# Expected Approach] Finding different pairs - O(n1/3) time and O(1) space\n",
    "# While traversing numbers from 1 to the cube root of n, Subtract the cube\n",
    "# of the current number from n and check if their difference is a perfect cube. "
   ]
  },
  {
   "cell_type": "markdown",
   "id": "23a17787",
   "metadata": {},
   "source": [
    "Program to Find GCD or HCF of Two Numbers\n",
    "\n",
    "Given two positive integers a and b, the task is to find the GCD of the two numbers.\n",
    "\n",
    "Note: The GCD (Greatest Common Divisor) or HCF (Highest Common Factor) of two numbers is the largest number that divides both of them. \n",
    "Input: a = 20, b = 28\n",
    "Output: 4\n",
    "Explanation: The factors of 20 are 1, 2, 4, 5, 10 and 20. The factors of 28 are 1, 2, 4, 7, 14 and 28. Among these factors, 1, 2 and 4 are the common factors of both 20 and 28. The greatest among the common factors is 4.\n",
    "\n",
    "Input: a = 60, b = 36\n",
    "Output: 12\n",
    "Explanation: GCD of  60 and 36 is 12."
   ]
  },
  {
   "cell_type": "code",
   "execution_count": null,
   "id": "7dc48700",
   "metadata": {},
   "outputs": [
    {
     "data": {
      "text/plain": [
       "4"
      ]
     },
     "execution_count": 60,
     "metadata": {},
     "output_type": "execute_result"
    }
   ],
   "source": [
    "def gcd(a,b):\n",
    "    result=min(a,b)\n",
    "    while result>0:\n",
    "        if a%result==0 and b%result==0:\n",
    "            break\n",
    "        result-=1\n",
    "    return result\n",
    "gcd(20,28)\n",
    "# [Approach - 1] Using Loop - O(min(a, b)) Time and O(1) Space\n",
    "# The idea is to find the minimum of the two numbers and find its highest factor which is also a factor of the other number. \n"
   ]
  },
  {
   "cell_type": "code",
   "execution_count": null,
   "id": "d448a6a4",
   "metadata": {},
   "outputs": [
    {
     "name": "stdout",
     "output_type": "stream",
     "text": [
      "4\n"
     ]
    }
   ],
   "source": [
    "def gcd(a,b):\n",
    "    if a==0:\n",
    "        return b\n",
    "    if b==0:\n",
    "        return a\n",
    "    if a==b:\n",
    "        return a\n",
    "    if a>b:\n",
    "        return gcd(a-b,b)\n",
    "    return gcd(a,b-a)\n",
    "print(gcd(20,28))\n",
    "\n",
    "# [Approach - 2] Euclidean Algorithm using Subtraction - O(min(a,b)) Time and O(min(a,b)) Space\n",
    "# The idea of this algorithm is, the GCD of two numbers doesn'tchange if the smaller number is subtracted \n",
    "# from the bigger number. This is the Euclidean algorithm by subtraction.\n",
    "# It is a process of repeat subtraction, carrying the result forward each time until the result is equal to \n",
    "# any one number being subtracted."
   ]
  },
  {
   "cell_type": "code",
   "execution_count": 64,
   "id": "0a4da47a",
   "metadata": {},
   "outputs": [
    {
     "name": "stdout",
     "output_type": "stream",
     "text": [
      "14\n"
     ]
    }
   ],
   "source": [
    "# [Approach - 3 ] Modified Euclidean Algorithm using Subtraction by Checking Divisibility - O(min(a, b)) Time and O(min(a, b)) \n",
    "# Space\n",
    "\n",
    "def gcd(a,b):\n",
    "    if a==0:\n",
    "        return b\n",
    "    if b==0: \n",
    "        return a\n",
    "    if a==b:\n",
    "        return a\n",
    "    if a>b:\n",
    "        if a%b==0:\n",
    "            return b\n",
    "        return gcd(a-b,b)\n",
    "    if(b%a==0):\n",
    "        return a\n",
    "    return gcd(a,b-a)\n",
    "print(gcd(42,14))"
   ]
  },
  {
   "cell_type": "code",
   "execution_count": null,
   "id": "c8b02d45",
   "metadata": {},
   "outputs": [
    {
     "name": "stdout",
     "output_type": "stream",
     "text": [
      "4\n"
     ]
    }
   ],
   "source": [
    "# [Approach - 4] Optimized Euclidean Algorithm by Checking Remainder\n",
    "# Instead of the Euclidean algorithm by subtraction, a better approach can be used.\n",
    "# We don't perform subtraction here. we continuously divide the bigger number by the smaller number. \n",
    "# More can be learned about this efficient solution by using the modulo operator in Euclidean algorithm.\n",
    "def gcd(a,b):\n",
    "    if (b==0): \n",
    "        return a \n",
    "    else: \n",
    "        return gcd(b,a%b)\n",
    "print(gcd(20,28))\n",
    "'''Time Complexity: O(log(min(a,b)))\n",
    "\n",
    "Each recursive call reduces the size of the numbers significantly using the modulo operation (a % b),\n",
    "which shrinks the input faster than subtraction.\n",
    "The worst-case scenario for the number of steps occurs when the inputs are consecutive Fibonacci numbers, \n",
    "like (21, 13), which maximizes the number of recursive calls.\n",
    "Since Fibonacci numbers grow exponentially, and the number of steps increases linearly with their position, \n",
    "the time complexity becomes logarithmic in terms of the smaller number — O(log(min(a, b))).\n",
    "Auxiliary Space: O(log(min(a,b))\n",
    "\n",
    "The maximum number of recursive calls is proportional to the number of steps taken to reduce the input to zero,\n",
    " which is O(log(min(a, b))) in the worst case.'''"
   ]
  },
  {
   "cell_type": "code",
   "execution_count": 68,
   "id": "ba12e17e",
   "metadata": {},
   "outputs": [
    {
     "data": {
      "text/plain": [
       "4"
      ]
     },
     "execution_count": 68,
     "metadata": {},
     "output_type": "execute_result"
    }
   ],
   "source": [
    "# [Approach - 5] Using Built-in Function - O(log(min(a, b))) Time and O(1) Space\n",
    "import math\n",
    "def gcd(a,b):\n",
    "    return math.gcd(a,b)\n",
    "gcd(20,28)"
   ]
  },
  {
   "cell_type": "markdown",
   "id": "523aa5a9",
   "metadata": {},
   "source": [
    "Program to find LCM of two numbers\n",
    "Last Updated : 26 Aug, 2025\n",
    "Given two positive integers a and b. Find the Least Common Multiple (LCM) of a and b.\n",
    "LCM of two numbers is the smallest number which can be divided by both numbers. \n",
    "\n",
    "Input :  a = 10, b = 5\n",
    "Output :  10\n",
    "Explanation : 10 is the smallest number divisible by both 10 and 5\n",
    "\n",
    "Input :  a = 5, b = 11\n",
    "Output :  55\n",
    "Explanation : 55 is the smallest number divisible by both 5 and 11"
   ]
  },
  {
   "cell_type": "code",
   "execution_count": null,
   "id": "8441d03a",
   "metadata": {},
   "outputs": [
    {
     "name": "stdout",
     "output_type": "stream",
     "text": [
      "10\n"
     ]
    }
   ],
   "source": [
    "def gcd(a,b):\n",
    "    if b==0:\n",
    "        return a\n",
    "    else:\n",
    "        return gcd(b,a%b)\n",
    "def lcm(a,b):\n",
    "    return (a*b)//gcd(a,b)\n",
    "print(lcm(10,5))\n",
    "\n",
    "# Mathematicians have proven (Knuth, 1976 📚) that in the worst case,\n",
    "# each step reduces the numbers about as fast as Fibonacci sequence decreases.\n",
    "\n",
    "# That means the number of steps is proportional to:\n",
    "     #   log(min(a,b))\n",
    "# So, the algorithm finishes in logarithmic time relative to the smaller input.\n",
    "\n",
    "# Time Complexity: O(log(min(a,b))\n",
    "# Auxiliary Space: O(log(min(a,b))"
   ]
  },
  {
   "cell_type": "markdown",
   "id": "93045f0b",
   "metadata": {},
   "source": [
    "Perfect Number\n",
    "Last Updated : 23 Jul, 2025\n",
    "A number is a perfect number if it is equal to the sum of its proper divisors, that is, the sum of its positive divisors excluding the number itself. Find whether a given positive integer n is perfect or not.\n",
    "Examples: \n",
    "\n",
    "Input: n = 15\n",
    "Output: false\n",
    "Explanation: Divisors of 15 are 1, 3 and 5. Sum of divisors is 9 which is not equal to 15.\n",
    "\n",
    "Input: n = 6\n",
    "Output: true\n",
    "Explanation: Divisors of 6 are 1, 2 and 3. Sum of divisors is 6."
   ]
  },
  {
   "cell_type": "code",
   "execution_count": null,
   "id": "c92a6f79",
   "metadata": {},
   "outputs": [
    {
     "name": "stdout",
     "output_type": "stream",
     "text": [
      "True\n"
     ]
    }
   ],
   "source": [
    "def PerfectNumber(n):\n",
    "    sum=0\n",
    "    for i in range(1,n):\n",
    "        if n%i==0:\n",
    "            sum+=i\n",
    "    if sum==n:\n",
    "        return True\n",
    "    else:\n",
    "        return False\n",
    "print(PerfectNumber(6))\n",
    "# [Naive Approach] Divisor Sum Method - O(n) Time and O(1) Space\n",
    "# A simple Solution is to go through every number from 1 to n-1 and check if it is a divisor. \n",
    "# Maintain sum of all divisors. If sum becomes equal to n, then return true, else return false."
   ]
  },
  {
   "cell_type": "code",
   "execution_count": 77,
   "id": "500e77d5",
   "metadata": {},
   "outputs": [
    {
     "data": {
      "text/plain": [
       "True"
      ]
     },
     "execution_count": 77,
     "metadata": {},
     "output_type": "execute_result"
    }
   ],
   "source": [
    "# [Expected Approach] Optimized Divisor Search Method - O(sqrt n) Time and O(1) Space\n",
    "# An efficient Solution is to go through numbers till square root of n. \n",
    "# If a number 'i' divides n, then add both 'i' and 'n/i' .\n",
    "def PerfectNumber(n):\n",
    "    sum=1\n",
    "    for i in range(2,int(math.sqrt(n))+1):\n",
    "        if n%i==0:\n",
    "            if i*i==n:\n",
    "                sum+=i\n",
    "            else:\n",
    "                sum+=i+n//i\n",
    "    if sum==n:\n",
    "        return True\n",
    "    return False\n",
    "PerfectNumber(6)"
   ]
  },
  {
   "cell_type": "markdown",
   "id": "21a8f158",
   "metadata": {},
   "source": [
    "Program to add two fractions\n",
    "Last Updated : 21 Mar, 2025\n",
    "Given two integer arrays a[] and b[] containing two integers each representing the numerator and denominator of a fraction respectively. The task is to find the sum of the two fractions and return the numerator and denominator of the result."
   ]
  },
  {
   "cell_type": "code",
   "execution_count": null,
   "id": "800fa35f",
   "metadata": {},
   "outputs": [
    {
     "name": "stdout",
     "output_type": "stream",
     "text": [
      "[2, 5]\n"
     ]
    }
   ],
   "source": [
    "def gcd(a,b):\n",
    "    if b==0:\n",
    "        return a\n",
    "    return gcd(b,a%b)\n",
    "def AddTwoFractions(a,b):\n",
    "    gcdOfDen=gcd(a[1],b[1])\n",
    "    commonDenFactor=(a[1]*b[1])//gcdOfDen\n",
    "    numconversion=a[0]*(commonDenFactor//a[1]) + b[0]*(commonDenFactor//b[1])\n",
    "    commonFactor=gcd(numconversion,commonDenFactor)\n",
    "    num=numconversion//commonFactor\n",
    "    den=commonDenFactor//commonFactor\n",
    "    return[num,den]\n",
    "\n",
    "a=[1,5]\n",
    "b=[3,15]\n",
    "print( AddTwoFractions(a,b))\n",
    "\n",
    "# Time Complexity : O(log(min(a, b))\n",
    "# Auxiliary Space : O(1)"
   ]
  },
  {
   "cell_type": "markdown",
   "id": "3289af5a",
   "metadata": {},
   "source": [
    "Find day of the week for a given date\n",
    "Last Updated : 14 Feb, 2025\n",
    "Given a date (day, month, year), the task is to determine the day of the week on which that date falls. The function should be able to compute the day for any date in the past or future. The function should return values from 0 to 6 where 0 means Sunday, 1 Monday and so on."
   ]
  },
  {
   "cell_type": "code",
   "execution_count": null,
   "id": "725eb56c",
   "metadata": {},
   "outputs": [
    {
     "name": "stdout",
     "output_type": "stream",
     "text": [
      "4\n"
     ]
    }
   ],
   "source": [
    "def day_of_week(d, m, y):\n",
    "    # Predefined month codes for each month\n",
    "    month_code = [6, 2, 2, 5, 0, 3, 5, 1, 4, 6, 2, 4]\n",
    "    if m<3:\n",
    "        y=-1\n",
    "    #Adjust the year\n",
    "    last_2_digits_of_year=y%100\n",
    "    year_code=last_2_digits_of_year+last_2_digits_of_year//4\n",
    "    #Adjust the century\n",
    "    century=y//100\n",
    "    year_code_adjusted=(year_code+(century//4)+(century*5))%7\n",
    "    return(d+month_code[m-1]+year_code_adjusted)%7\n",
    "day = 15\n",
    "month = 6\n",
    "year = 1995\n",
    "print(day_of_week(day, month, year))\n",
    "# Time Complexity: O(1)\n",
    "# Auxiliary Space: O(1)"
   ]
  },
  {
   "cell_type": "markdown",
   "id": "6d15b43b",
   "metadata": {},
   "source": [
    "Predefined Month Codes (t[]):\n",
    "The array t[] stores month codes for each month. These values are predefined to account for the different lengths of each month.\n",
    "For example: January = 6, February = 2 (or 1 for leap years), March = 2, etc.\n",
    "Adjusting the Year for January and February (y -= m < 3):\n",
    "The code adjusts the year if the month is January or February.\n",
    "This is because in Zeller's Congruence, January and February are treated as the 13th and 14th months of the previous year.\n",
    "If the month is January or February, it reduces the year by 1 (i.e., y -= 1).\n",
    "Leap Year Adjustments (y / 4 - y / 100 + y / 400): The formula adjusts for leap years and century years:\n",
    "y / 4: Adds an adjustment for the leap years.\n",
    "y / 100: Subtracts the days for century years that are not leap years.\n",
    "y / 400: Adds back the leap days for century years that are divisible by 400 (e.g., 1600, 2000).\n",
    "Final Calculation:\n",
    "The formula: (y + y/4 − y/100 + y/400 + t[m−1] + d) % 7 calculates the day of the week by summing the day (d), month code (t[m - 1]), and adjusted year values.\n",
    "The result is then taken modulo 7, which gives a value between 0 and 6, corresponding to the days of the week: 0 = Sunday, 1 = Monday, ..., 6 = Saturday.Zeller's Congruence-Based Approach\n",
    "This approach calculates the day of the week for a given date using a formula involving the year, month, and day. It is essentially a simplified version of Zeller's Congruence, with adjustments for century years and leap years."
   ]
  },
  {
   "cell_type": "code",
   "execution_count": null,
   "id": "12432da2",
   "metadata": {},
   "outputs": [
    {
     "name": "stdout",
     "output_type": "stream",
     "text": [
      "1\n"
     ]
    }
   ],
   "source": [
    "def dayofweek(d, m, y):\n",
    "    t = [ 0, 3, 2, 5, 0, 3,\n",
    "          5, 1, 4, 6, 2, 4 ]\n",
    "    if m<3:\n",
    "        y-=1\n",
    "    leap_year_adjustment=int(y/4)\n",
    "    not_leap_year_days=int(y/100)\n",
    "    leap_year_days=int(y/400)\n",
    "    return (y+leap_year_adjustment-not_leap_year_days+leap_year_days+t[m-1]+d)%7\n",
    "print(dayofweek(30, 8, 2010))\n",
    "# Time Complexity: O(1)\n",
    "# Auxiliary Space: O(1)"
   ]
  },
  {
   "cell_type": "markdown",
   "id": "80ec6378",
   "metadata": {},
   "source": [
    "Nth Fibonacci Number\n",
    "Last Updated : 23 Jul, 2025\n",
    "Given a positive integer n, the task is to find the nth Fibonacci number.\n",
    "\n",
    "The Fibonacci sequence is a sequence where the next term is the sum of the previous two terms. The first two terms of the Fibonacci sequence are 0 followed by 1. The Fibonacci sequence: 0, 1, 1, 2, 3, 5, 8, 13, 21"
   ]
  },
  {
   "cell_type": "code",
   "execution_count": null,
   "id": "39882833",
   "metadata": {},
   "outputs": [
    {
     "name": "stdout",
     "output_type": "stream",
     "text": [
      "5\n"
     ]
    }
   ],
   "source": [
    "def fib(n):\n",
    "    if n<=1:\n",
    "        return n\n",
    "    return fib(n-1)+fib(n-2)\n",
    "print(fib(5))\n",
    "'''[Naive Approach] Using Recursion\n",
    "We can use recursion to solve this problem because any Fibonacci number n depends on previous two Fibonacci numbers. Therefore, this approach repeatedly breaks down the problem until it reaches the base cases.\n",
    "\n",
    "Recurrence relation:\n",
    "\n",
    "Base case: F(n) = n, when n = 0 or n = 1\n",
    "Recursive case: F(n) = F(n-1) + F(n-2) for n>1'''\n",
    "# Time Complexity: O(2n)\n",
    "# Auxiliary Space: O(n), due to recursion stack"
   ]
  },
  {
   "cell_type": "code",
   "execution_count": null,
   "id": "5de104cb",
   "metadata": {},
   "outputs": [
    {
     "name": "stdout",
     "output_type": "stream",
     "text": [
      "5\n"
     ]
    }
   ],
   "source": [
    "'''[Expected Approach-1] Memoization Approach\n",
    "In the previous approach there is a lot of redundant calculation that are calculating again and again, \n",
    "So we can store the results of previously computed Fibonacci numbers in a memo table to avoid redundant calculations. \n",
    "This will make sure that each Fibonacci number is only computed once, this will reduce the exponential time complexity of \n",
    "the naive approach O(2^n) into a more efficient O(n) time complexity'''\n",
    "def fib(n):\n",
    "    mem=[-1]*(n+1)\n",
    "    return fibo_util(n,mem)\n",
    "def fibo_util(n,mem):\n",
    "    if n<=1:\n",
    "        return n\n",
    "    if mem[n]!=-1:\n",
    "        return mem[n]\n",
    "    mem[n] =fibo_util(n-1,mem)+fibo_util(n-2,mem)\n",
    "    return mem[n]\n",
    "print(fib(5))\n",
    "# Time Complexity: O(n), each fibonacci number is calculated only one times from 1 to n;\n",
    "# Auxiliary Space: O(n), due to memo table"
   ]
  },
  {
   "cell_type": "code",
   "execution_count": null,
   "id": "1f5fff11",
   "metadata": {},
   "outputs": [
    {
     "data": {
      "text/plain": [
       "5"
      ]
     },
     "execution_count": 90,
     "metadata": {},
     "output_type": "execute_result"
    }
   ],
   "source": [
    "'''Expected Approach-2] Bottom-Up Approach\n",
    "This approach uses dynamic programming to solve the Fibonacci problem by storing previously calculated Fibonacci numbers, \n",
    "avoiding the repeated calculations of the recursive approach. Instead of breaking down the problem recursively, \n",
    "it iteratively builds up the solution by calculating Fibonacci numbers from the bottom up.'''\n",
    "def fibdp(n):\n",
    "    dp=[0]*(n+1)\n",
    "    dp[0]=0\n",
    "    dp[1]=1\n",
    "    for i in range(2,n+1):\n",
    "        dp[i]=dp[i-1]+dp[i-2]\n",
    "    return dp[n]\n",
    "fibdp(5)\n",
    "# Time Complexity: O(n), the loop runs from 2 to n, performing a constant amount of work per iteration.\n",
    "# Auxiliary Space: O(n), due to the use of an extra array to store Fibonacci numbers up to n."
   ]
  },
  {
   "cell_type": "code",
   "execution_count": null,
   "id": "2ad8cc5a",
   "metadata": {},
   "outputs": [
    {
     "name": "stdout",
     "output_type": "stream",
     "text": [
      "5\n"
     ]
    }
   ],
   "source": [
    "'''[Expected Approach-3] Space Optimized Approach\n",
    "This approach is just an optimization of the above iterative approach,\n",
    "Instead of using the extra array for storing the Fibonacci numbers, we can store the values in the variables.\n",
    " We keep the previous two numbers only because that is all we need to get the next Fibonacci number in series.'''\n",
    "def fibusingvar(n):\n",
    "    if n<=1:\n",
    "        return n\n",
    "    prev2=0\n",
    "    prev1=1\n",
    "    cur=0\n",
    "    for i in range(2,n+1):\n",
    "        cur=prev1+prev2\n",
    "        prev2=prev1\n",
    "        prev1=cur\n",
    "    return cur\n",
    "print(fibusingvar(5))\n",
    "# Time Complexity: O(n), The loop runs from 2 to n, performing constant time operations in each iteration.)\n",
    "# Auxiliary Space: O(1), Only a constant amount of extra space is used to store the current and two previous Fibonacci numbers."
   ]
  },
  {
   "cell_type": "code",
   "execution_count": 92,
   "id": "20759219",
   "metadata": {},
   "outputs": [
    {
     "name": "stdout",
     "output_type": "stream",
     "text": [
      "5\n"
     ]
    }
   ],
   "source": [
    "# Function to multiply two 2x2 matrices\n",
    "def multiply(mat1, mat2):\n",
    "  \n",
    "    # Perform matrix multiplication\n",
    "    x = mat1[0][0] * mat2[0][0] + mat1[0][1] * mat2[1][0]\n",
    "    y = mat1[0][0] * mat2[0][1] + mat1[0][1] * mat2[1][1]\n",
    "    z = mat1[1][0] * mat2[0][0] + mat1[1][1] * mat2[1][0]\n",
    "    w = mat1[1][0] * mat2[0][1] + mat1[1][1] * mat2[1][1]\n",
    "\n",
    "    # Update matrix mat1 with the result\n",
    "    mat1[0][0], mat1[0][1] = x, y\n",
    "    mat1[1][0], mat1[1][1] = z, w\n",
    "\n",
    "# Function to perform matrix exponentiation\n",
    "def matrix_power(mat1, n):\n",
    "  \n",
    "    # Base case for recursion\n",
    "    if n == 0 or n == 1:\n",
    "        return\n",
    "\n",
    "    # Initialize a helper matrix\n",
    "    mat2 = [[1, 1], [1, 0]]\n",
    "\n",
    "    # Recursively calculate mat1^(n // 2)\n",
    "    matrix_power(mat1, n // 2)\n",
    "\n",
    "    # Square the matrix mat1\n",
    "    multiply(mat1, mat1)\n",
    "\n",
    "    # If n is odd, multiply by the helper matrix mat2\n",
    "    if n % 2 != 0:\n",
    "        multiply(mat1, mat2)\n",
    "\n",
    "# Function to calculate the nth Fibonacci number\n",
    "def nth_fibonacci(n):\n",
    "    if n <= 1:\n",
    "        return n\n",
    "\n",
    "    # Initialize the transformation matrix\n",
    "    mat1 = [[1, 1], [1, 0]]\n",
    "\n",
    "    # Raise the matrix mat1 to the power of (n - 1)\n",
    "    matrix_power(mat1, n - 1)\n",
    "\n",
    "    # The result is in the top-left cell of the matrix\n",
    "    return mat1[0][0]\n",
    "\n",
    "if __name__ == \"__main__\":\n",
    "    n = 5\n",
    "    result = nth_fibonacci(n)\n",
    "    print(result)"
   ]
  },
  {
   "cell_type": "markdown",
   "id": "f1d56b5e",
   "metadata": {},
   "source": [
    "Decimal to Binary Conversion Program\n",
    "Last Updated : 14 Jul, 2025\n",
    "Given a non negative number n, the task is to convert the given number into an equivalent binary representation."
   ]
  },
  {
   "cell_type": "code",
   "execution_count": null,
   "id": "2583e557",
   "metadata": {},
   "outputs": [
    {
     "name": "stdout",
     "output_type": "stream",
     "text": [
      "1100\n"
     ]
    }
   ],
   "source": [
    "def DecToBinary(n):\n",
    "    binArr=[]\n",
    "    while n>0:\n",
    "        bit=n%2\n",
    "        binArr.append(str(bit))\n",
    "        n//=2\n",
    "    binArr.reverse()\n",
    "    return \"\".join(binArr)\n",
    "\n",
    "print(DecToBinary(12))\n",
    "# [Approach - 1] Division by 2 - O(log₂(n)) Time and O(log₂(n)) Space\n",
    "# To convert a decimal number to binary, repeatedly divide it by 2 and record the remainders. \n",
    "# Reading these remainders in reverse gives the binary representation."
   ]
  },
  {
   "cell_type": "code",
   "execution_count": null,
   "id": "952e81d9",
   "metadata": {},
   "outputs": [
    {
     "name": "stdout",
     "output_type": "stream",
     "text": [
      "1100\n"
     ]
    }
   ],
   "source": [
    "\n",
    "def DecToBinaryRec(n,binArr):\n",
    "    if n==0:\n",
    "        return \n",
    "    DecToBinaryRec(n//2,binArr)\n",
    "    binArr.append(str(n%2))\n",
    "\n",
    "def DecToBinary(n):\n",
    "    if n==0:\n",
    "        return '0'\n",
    "    binArr=[]\n",
    "    DecToBinaryRec(n,binArr)\n",
    "    return \"\".join(binArr)\n",
    "\n",
    "print(DecToBinary(12))\n",
    "\n",
    "'''Step 1: Call stack expansion (divide by 2 each time)\n",
    "\n",
    "n = 12: recurse with 12 // 2 = 6\n",
    "\n",
    "n = 6: recurse with 6 // 2 = 3\n",
    "\n",
    "n = 3: recurse with 3 // 2 = 1\n",
    "\n",
    "n = 1: recurse with 1 // 2 = 0\n",
    "→ base case, return.\n",
    "\n",
    "Step 2: Unwinding recursion (append remainders)\n",
    "\n",
    "Now we append n % 2 as we return from each call:\n",
    "\n",
    "Returning from n=1: append 1 % 2 = 1 → binArr = [\"1\"]\n",
    "\n",
    "Returning from n=3: append 3 % 2 = 1 → binArr = [\"1\",\"1\"]\n",
    "\n",
    "Returning from n=6: append 6 % 2 = 0 → binArr = [\"1\",\"1\",\"0\"]\n",
    "\n",
    "Returning from n=12: append 12 % 2 = 0 → binArr = [\"1\",\"1\",\"0\",\"0\"]\n",
    "\n",
    "Step 3: Join results\n",
    "\n",
    "\"\".join(binArr) → \"1100\"'''\n",
    "# [Approach - 2] Using Head Recursion - O(log₂(n)) Time and O(log₂(n)) Space\n",
    "# The idea is same as the previous approach, but we will use recursion to generate the binary equivalent number."
   ]
  },
  {
   "cell_type": "code",
   "execution_count": 99,
   "id": "f015b45c",
   "metadata": {},
   "outputs": [
    {
     "name": "stdout",
     "output_type": "stream",
     "text": [
      "1100\n"
     ]
    }
   ],
   "source": [
    "'''[Approach - 3] Using Bitwise Operators - O(log₂(n)) Time and O(log₂(n)) Space\n",
    "Using bitwise operators, we can extract binary digits by checking the least significant bit (n & 1) and then right-shifting the number \n",
    "(n >> 1) to process the next bit.\n",
    "This method is faster than arithmetic division and modulo, as bitwise operations are more efficient at the hardware level.'''\n",
    "def DecToBinary(n):\n",
    "    binArr=\"\"\n",
    "    while n>0:\n",
    "      bit=n&1\n",
    "      binArr+=str(bit)\n",
    "      n=n>>1\n",
    "    return binArr[::-1]\n",
    "print(DecToBinary(12))\n"
   ]
  },
  {
   "cell_type": "code",
   "execution_count": null,
   "id": "23e489f5",
   "metadata": {},
   "outputs": [
    {
     "name": "stdout",
     "output_type": "stream",
     "text": [
      "1100\n"
     ]
    }
   ],
   "source": [
    "def DecToBinary(n):\n",
    "    return bin(n)[2::]\n",
    "print(DecToBinary(12))\n"
   ]
  },
  {
   "cell_type": "markdown",
   "id": "0f57c17a",
   "metadata": {},
   "source": [
    "Find n-th term of series 1, 3, 6, 10, 15, 21...\n",
    "Last Updated : 21 Mar, 2025\n",
    "Given a number n, find the n-th term in the series 1, 3, 6, 10, 15, 21..."
   ]
  },
  {
   "cell_type": "code",
   "execution_count": 2,
   "id": "e609fa8d",
   "metadata": {},
   "outputs": [
    {
     "name": "stdout",
     "output_type": "stream",
     "text": [
      "10\n"
     ]
    }
   ],
   "source": [
    "'''[Naive approach] Using Loop - O(n) time and O(1) space\n",
    "The series sums the first n natural numbers, with each term adding one more number. The nth term is the sum of the first n natural numbers.'''\n",
    "def nthTerm(n):\n",
    "    sum=0\n",
    "    for i in range(1,n+1):\n",
    "        sum+=i\n",
    "    return sum\n",
    "print(nthTerm(4))\n"
   ]
  },
  {
   "cell_type": "code",
   "execution_count": null,
   "id": "52c2c2ca",
   "metadata": {},
   "outputs": [
    {
     "name": "stdout",
     "output_type": "stream",
     "text": [
      "10\n"
     ]
    }
   ],
   "source": [
    "def nthTerm(n):\n",
    "    sum=0\n",
    "    for i in range(1,n+1):\n",
    "        return n*(n+1)//2\n",
    "print(nthTerm(4))\n",
    "'''[Expected Approach] Using Formula - O(1) time and O(1) space\n",
    "The pattern in this series is nth term is equal to sum of (n-1)th term and n.'''"
   ]
  },
  {
   "cell_type": "markdown",
   "id": "31c59093",
   "metadata": {},
   "source": [
    "Check if a number is Palindrome\n",
    "Given an integer n, determine whether it is a palindrome number or not. A number is called a palindrome if it reads the same from forward and backward."
   ]
  },
  {
   "cell_type": "code",
   "execution_count": null,
   "id": "07d49a70",
   "metadata": {},
   "outputs": [
    {
     "name": "stdout",
     "output_type": "stream",
     "text": [
      "True\n"
     ]
    }
   ],
   "source": [
    "def isPalindrome(n):\n",
    "    rev=0\n",
    "    temp=abs(n)\n",
    "    while n>0:\n",
    "        rev=rev*10+n%10\n",
    "        n=n//10\n",
    "    if rev==temp:\n",
    "        return True\n",
    "    return False\n",
    "print(isPalindrome(121))\n",
    "'''[Expected Approach] - By Reversing The Number\n",
    "The idea is to find the reverse of the original number and then compare the reversed number with the original number. \n",
    "If the reversed number is same as the original number, the number is palindrome. Otherwise, the number is not a palindrome.  '''\n",
    "# Time Complexity : O(d) , where d = log₁₀(n)\n",
    "# Auxiliary space: O(1)"
   ]
  },
  {
   "cell_type": "code",
   "execution_count": null,
   "id": "36277480",
   "metadata": {},
   "outputs": [
    {
     "name": "stdout",
     "output_type": "stream",
     "text": [
      "True\n"
     ]
    }
   ],
   "source": [
    "def isPalindrome(n):\n",
    "    sn=str(n)\n",
    "    lensn=len(sn)\n",
    "    for i in range(lensn//2):\n",
    "        if sn[i]==sn[lensn-i-1]:\n",
    "            return True\n",
    "        return False\n",
    "print(isPalindrome(121))\n",
    "# Time Complexity : O(d) , where d = log₁₀(n)\n",
    "# Auxiliary space: O(d) , where d = log₁₀(n)\n"
   ]
  },
  {
   "cell_type": "markdown",
   "id": "21eab07f",
   "metadata": {},
   "source": [
    "Program for Armstrong Numbers\n",
    "\n",
    "Given a number x, determine whether the given number is Armstrong's number or not. A positive integer of n digits is called an Armstrong number of order n (order is the number of digits) if\n",
    "\n",
    "abcd... = pow(a,n) + pow(b,n) + pow(c,n) + pow(d,n) + ...."
   ]
  },
  {
   "cell_type": "code",
   "execution_count": null,
   "id": "a3f79f05",
   "metadata": {},
   "outputs": [
    {
     "name": "stdout",
     "output_type": "stream",
     "text": [
      "True\n"
     ]
    }
   ],
   "source": [
    "import math\n",
    "def Armstrong(n):\n",
    "    sn=str(n)\n",
    "    sum=0\n",
    "    length=len(sn)\n",
    "    for i in sn:\n",
    "        sum=sum+math.pow(int(i),length)\n",
    "    if sum==n:\n",
    "        return True\n",
    "    return False\n",
    "print(Armstrong(153))\n",
    "'''[Approach 2] Using Numeric Strings\n",
    "The idea is to determine if a number is an Armstrong number by first converting it to a string to easily access its digits \n",
    "and count them. Each digit is then raised to the power of the total number of digits, and the results are summed. If this \n",
    "sum is equal to the original number, it is classified as an Armstrong number. This approach leverages simple string manipulation and \n",
    "power calculation to perform the check efficiently.\n",
    "Time Complexity: O(d*log(d)), where d is the number of digits in n, since we compute the power for each digit.\n",
    "Space Complexity: O(1)'''"
   ]
  },
  {
   "cell_type": "markdown",
   "id": "bf9ce2ff",
   "metadata": {},
   "source": [
    "Digital Root (repeated digital sum) of the given large integer\n",
    "\n",
    "The digital root of a positive integer is found by summing the digits of the integer. If the resulting value is a single digit then that digit is the digital root. If the resulting value contains two or more digits, those digits are summed and the process is repeated. This is continued as long as necessary to obtain a single digit.\n",
    "Given a number, the task is to find its digital root. The input number may be large and it may not be possible to store even if we use long long int.\n",
    "\n",
    "Examples :\n",
    "Input : num = \"1234\"\n",
    "Output : 1\n",
    "Explanation : The sum of 1+2+3+4 = 10, digSum(x) == 10,Hence ans will be 1+0 = 1\n",
    "\n",
    "Input : num = \"5674\"\n",
    "Output : 4 "
   ]
  },
  {
   "cell_type": "code",
   "execution_count": null,
   "id": "545c9a15",
   "metadata": {},
   "outputs": [
    {
     "name": "stdout",
     "output_type": "stream",
     "text": [
      "1\n"
     ]
    }
   ],
   "source": [
    "'''Expected Approach] Using Mathematical Formula\n",
    "We know that every number in the decimal system can be expressed as a sum of its digits multiplied by powers of 10. For example, a number represented as abcd can be written as follows:\n",
    "\n",
    "abcd = a*10^3 + b*10^2 + c*10^1 + d*10^0   \n",
    "\n",
    "We can separate the digits and rewrite this as:\n",
    "abcd = a + b + c + d + (a*999 + b*99 + c*9)\n",
    "abcd = a + b + c + d + 9*(a*111 + b*11 + c)\n",
    "\n",
    "This implies that any number can be expressed as the sum of its digits plus a multiple of 9.\n",
    "So, if we take modulo with 9 on each side, \n",
    "abcd % 9 = (a + b + c + d) % 9 + 0\n",
    "\n",
    "This means that the remainder when abcd is divided by 9 is equal to the remainder where the sum of its digits (a + b + c + d) is divided by 9.'''\n",
    "def printDigitalSum(n):\n",
    "    if n==0:\n",
    "        return 0\n",
    "    if n%9==0:\n",
    "        return 9\n",
    "    return n%9\n",
    "print(printDigitalSum(1234))\n",
    "# Time Complexity: O(1)\n",
    "# Auxiliary Space: O(1)"
   ]
  },
  {
   "cell_type": "code",
   "execution_count": null,
   "id": "26df3bdd",
   "metadata": {},
   "outputs": [],
   "source": []
  }
 ],
 "metadata": {
  "kernelspec": {
   "display_name": "Python 3",
   "language": "python",
   "name": "python3"
  },
  "language_info": {
   "codemirror_mode": {
    "name": "ipython",
    "version": 3
   },
   "file_extension": ".py",
   "mimetype": "text/x-python",
   "name": "python",
   "nbconvert_exporter": "python",
   "pygments_lexer": "ipython3",
   "version": "3.10.2"
  }
 },
 "nbformat": 4,
 "nbformat_minor": 5
}
