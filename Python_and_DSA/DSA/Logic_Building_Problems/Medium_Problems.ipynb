{
 "cells": [
  {
   "cell_type": "markdown",
   "id": "ccfd0482",
   "metadata": {},
   "source": [
    "## Logic Building Medium level Problems\n"
   ]
  },
  {
   "cell_type": "markdown",
   "id": "e9774a21",
   "metadata": {},
   "source": []
  },
  {
   "cell_type": "markdown",
   "id": "8ed2bff8",
   "metadata": {},
   "source": [
    " # Program for Square Root of Integer\n",
    "\n",
    "Given a positive integer n, find its square root. If n is not a perfect square, then return floor of √n.\n",
    "\n",
    "Examples : \n",
    "\n",
    "Input: n = 4\n",
    "Output: 2\n",
    "Explanation: The square root of 4 is 2.\n",
    "\n",
    "Input: n = 11\n",
    "Output: 3\n",
    "Explanation: The square root of 11 lies in between 3 and 4 so floor of the square root is 3."
   ]
  },
  {
   "cell_type": "code",
   "execution_count": 2,
   "id": "3ef785b7",
   "metadata": {},
   "outputs": [
    {
     "name": "stdout",
     "output_type": "stream",
     "text": [
      "3\n"
     ]
    },
    {
     "data": {
      "text/plain": [
       "'[Naive Approach] Using a loop - O(sqrt(n)) Time and O(1) Space\\nStart from 1 and square each number until the square exceeds the given number.\\n The last number whose square is less than or equal to n is the answer.'"
      ]
     },
     "execution_count": 2,
     "metadata": {},
     "output_type": "execute_result"
    }
   ],
   "source": [
    "def floorsqrt(n):\n",
    "    res=1\n",
    "    while res*res<=n:\n",
    "        res+=1\n",
    "    return res-1\n",
    "print(floorsqrt(11))\n",
    "'''[Naive Approach] Using a loop - O(sqrt(n)) Time and O(1) Space\n",
    "Start from 1 and square each number until the square exceeds the given number.\n",
    " The last number whose square is less than or equal to n is the answer.'''"
   ]
  },
  {
   "cell_type": "code",
   "execution_count": 5,
   "id": "f9e5ad9f",
   "metadata": {},
   "outputs": [
    {
     "data": {
      "text/plain": [
       "3"
      ]
     },
     "execution_count": 5,
     "metadata": {},
     "output_type": "execute_result"
    }
   ],
   "source": [
    "'''[Expected Approach] Using Binary Search - O(log(n)) Time and O(1) Space\n",
    "The square of a number increases as the number increases, so the square root of n must lie in a sorted (monotonic) range.\n",
    "If a number's square is more than n, the square root must be smaller.\n",
    "If it's less than or equal to n, the square root could be that number or greater.\n",
    "Because of this pattern, we can apply binary search in the range 1 to n to efficiently find the square root.'''\n",
    "\n",
    "def floorsqrt(n):\n",
    "    res=1\n",
    "    low=1\n",
    "    high=n\n",
    "    while low<=high:\n",
    "        mid = low+(high-low)//2\n",
    "        if mid*mid<=n:\n",
    "            res=mid\n",
    "            low=mid+1\n",
    "        else:\n",
    "            high=mid-1\n",
    "    return res\n",
    "floorsqrt(11)\n",
    "# '''[Expected Approach] Using Binary Search - O(log(n)) Time and O(1) Space\n",
    "# The square of a number increases as the number increases, so the square root of n must lie in a sorted (monotonic) range.\n",
    "# If a number's square is more than n, the square root must be smaller.\n",
    "# If it's less than or equal to n, the square root could be that number or greater.\n",
    "# Because of this pattern, we can apply binary search in the range 1 to n to efficiently find the square root.'''"
   ]
  },
  {
   "cell_type": "code",
   "execution_count": 7,
   "id": "40f81c34",
   "metadata": {},
   "outputs": [
    {
     "name": "stdout",
     "output_type": "stream",
     "text": [
      "3\n"
     ]
    }
   ],
   "source": [
    "# [Alternate Approach] Using Built In functions - O(log(n)) Time and O(1) Space\n",
    "#  We can directly use built in functions to find square root of an integer.\n",
    "import math\n",
    "def floorsqrt(n):\n",
    "    return int(math.sqrt(n))\n",
    "print(floorsqrt(11))"
   ]
  },
  {
   "cell_type": "code",
   "execution_count": 10,
   "id": "99f7c2bc",
   "metadata": {},
   "outputs": [
    {
     "name": "stdout",
     "output_type": "stream",
     "text": [
      "3\n"
     ]
    }
   ],
   "source": [
    "def floorsqrt(n):\n",
    "    res= int(math.exp(0.5*math.log(n)))\n",
    "    if (res+1)**2<=n:\n",
    "        return res+1\n",
    "    return res\n",
    "print(floorsqrt(11))"
   ]
  },
  {
   "cell_type": "markdown",
   "id": "1e612799",
   "metadata": {},
   "source": [
    "# Count numbers with exactly 3 divisors\n",
    "\n",
    "Given a number n, print count of numbers in the range from 1 to n having exactly 3 divisors. \n",
    "\n",
    "Examples: \n",
    "\n",
    "Input: n = 16\n",
    "Output: 2\n",
    "Explanation: Only 4 and 9 have exactly three divisors.\n",
    "\n",
    "Input: n = 100\n",
    "Output: 4\n",
    "Explanation: 4, 9, 25 and 49 have exactly three divisors."
   ]
  },
  {
   "cell_type": "code",
   "execution_count": 12,
   "id": "855df59e",
   "metadata": {},
   "outputs": [
    {
     "name": "stdout",
     "output_type": "stream",
     "text": [
      "4\n"
     ]
    }
   ],
   "source": [
    "def divisor(n):\n",
    "    count=0\n",
    "    for i in range(1,n+1):\n",
    "        if n%i==0:\n",
    "            count+=1\n",
    "    return count\n",
    "def countDivisors(n):\n",
    "    total=0\n",
    "    for i in range(1,n+1):\n",
    "        if divisor(i)==3:\n",
    "            total+=1\n",
    "    return total\n",
    "print(countDivisors(100))"
   ]
  },
  {
   "cell_type": "markdown",
   "id": "4df6fb95",
   "metadata": {},
   "source": [
    "[Expected Approach-1] Mathematical Approach\n",
    "The number having exactly 3 divisors must be a perfect square of a prime number.\n",
    "\n",
    "A number with divisors is a number that can be evenly divided by 1, itself, and other integers in between.\n",
    "For a number to have exactly 3 divisors, the divisors must be:\n",
    "1 (every number is divisible by 1)\n",
    "The number itself (a number is always divisible by itself)\n",
    "One other divisor between 1 and the number.\n",
    "For this to happen, the number must be the square of a prime.\n",
    "\n",
    "If p is a prime number, then the divisors of p2 (the square of p) will be: \n",
    "1 (as it's divisible by 1)\n",
    "p (as it is divisible by p)\n",
    "p2 (as it is divisible by itself)   \n",
    "\n",
    "Therefore, the only way for a number to have exactly 3 divisors is if it is the square of a prime number. This is because, for any non-square number, there are more than 3 divisors, and for a perfect square of a non-prime number, it would have more than 3 divisors as well. Thus, the number must be the square of a prime, and that's why we specifically look at perfect squares of primes."
   ]
  },
  {
   "cell_type": "code",
   "execution_count": 17,
   "id": "a3ad517f",
   "metadata": {},
   "outputs": [
    {
     "name": "stdout",
     "output_type": "stream",
     "text": [
      "4\n"
     ]
    }
   ],
   "source": [
    "def exactly3Divisors(n):\n",
    "    prime=[True]*(n+1)\n",
    "    prime[0]=prime[1]=False\n",
    "    for p in range(2,int(n**0.5)+1):\n",
    "        if prime[p]:\n",
    "            for p in range(2*p,n+1,p):\n",
    "                prime[p]=False\n",
    "    return prime\n",
    "def countDivisors(n):\n",
    "    count=0\n",
    "    prime=exactly3Divisors(n)\n",
    "    for i in range(2,int(n**0.5)+1):\n",
    "        if prime[i]:\n",
    "            count+=1\n",
    "    return count\n",
    "print(countDivisors(100))\n",
    "# Time Complexity: O(n*log(log(n)))\n",
    "# Auxiliary Space: O(n)"
   ]
  },
  {
   "cell_type": "code",
   "execution_count": 18,
   "id": "1f036e32",
   "metadata": {},
   "outputs": [
    {
     "name": "stdout",
     "output_type": "stream",
     "text": [
      "4\n"
     ]
    }
   ],
   "source": [
    "# Checks if n is prime\n",
    "def isPrime(n):\n",
    "    for i in range(2, int(n**0.5)+1):\n",
    "        if n % i == 0:\n",
    "            return False\n",
    "    return True\n",
    "\n",
    "# Generates all numbers with 3 \n",
    "# divisors and returns count\n",
    "def exactly3Divisors(n):\n",
    "    total = 0\n",
    "    for i in range(2, int(n**0.5)+1):\n",
    "        # Check prime\n",
    "        if isPrime(i):\n",
    "            total += 1\n",
    "    return total\n",
    "    \n",
    "if __name__ ==\"__main__\":\n",
    "    n = 100\n",
    "    print(exactly3Divisors(n))"
   ]
  },
  {
   "cell_type": "code",
   "execution_count": null,
   "id": "ba4205bc",
   "metadata": {},
   "outputs": [],
   "source": [
    "import pandas as pd\n",
    "\n",
    "# Load the data\n",
    "ip_excel = pd.read_excel(r\"D:\\KPI\\235.4\\SOD_OCL_Simulation_Full_Set_E235_v6 (1).xlsx\")\n",
    "op_csv = pd.read_csv(r\"D:\\KPI\\E230_SOD\\RecordingRequirementSODFullset.csv\")\n",
    "\n",
    "# Convert the CarRecordingID column to the same data type as recordingsession_id\n",
    "ip_excel['CarRecordingID'] = ip_excel['CarRecordingID'].astype(op_csv['recordingsession_id'].dtype)\n",
    "\n",
    "# Create a set from the CarRecordingID column for faster lookup\n",
    "cidgs_set = set(ip_excel['CarRecordingID'])\n",
    "\n",
    "# Function to check if a recordingsession_id is in the Goldenset\n",
    "def is_in_goldenset(recordingsession_id):\n",
    "    return 'Yes' if recordingsession_id in cidgs_set else 'No'\n",
    "\n",
    "# Apply the function to create the Goldenset column\n",
    "op_csv['Goldenset'] = op_csv['recordingsession_id'].apply(is_in_goldenset)\n",
    "\n",
    "# Save the updated DataFrame to a new CSV file\n",
    "op_csv.to_csv(r'D:\\KPI\\E230_SOD\\output.csv', index=False)"
   ]
  },
  {
   "cell_type": "code",
   "execution_count": 3,
   "id": "324ee24d",
   "metadata": {},
   "outputs": [],
   "source": [
    "import pandas as pd\n",
    "\n",
    "# Load the data\n",
    "ip_excel = pd.read_excel(r\"D:\\KPI\\235.4\\SOD_OCL_Simulation_Full_Set_E235_v6 (1).xlsx\")\n",
    "op_csv = pd.read_csv(r\"D:\\KPI\\E230_SOD\\RecordingRequirementSODFullset.csv\")\n",
    "\n",
    "# Convert the CarRecordingID column to the same data type as recordingsession_id\n",
    "ip_excel['CarRecordingID'] = ip_excel['CarRecordingID'].astype(op_csv['recordingsession_id'].dtype)\n",
    "\n",
    "# Create a set from the recordingsession_id column for faster lookup\n",
    "cirfs_set = set(op_csv['recordingsession_id'])\n",
    "\n",
    "# Find missing recording IDs (present in Excel but missing in CSV)\n",
    "missing_ids = []\n",
    "for recording_id in ip_excel['CarRecordingID']:\n",
    "    if recording_id not in cirfs_set:\n",
    "        missing_ids.append(recording_id)\n",
    "\n",
    "# Print the missing recording IDs\n",
    "# print(\"Recording IDs present in Excel but missing in CSV:\")\n",
    "# for missing_id in missing_ids:\n",
    "#     #print(missing_id)\n",
    "\n",
    "# Apply the function to create the Goldenset column\n",
    "def is_in_goldenset(recordingsession_id):\n",
    "    return 'Yes' if recordingsession_id in set(ip_excel['CarRecordingID']) else 'No'\n",
    "\n",
    "op_csv['Goldenset'] = op_csv['recordingsession_id'].apply(is_in_goldenset)\n",
    "\n",
    "# Save the updated DataFrame to a new CSV file\n",
    "op_csv.to_csv(r'D:\\KPI\\E230_SOD\\output_missing.csv', index=False)"
   ]
  },
  {
   "cell_type": "markdown",
   "id": "4c3ce350",
   "metadata": {},
   "source": [
    "# Check if a large number is divisible by 4 or not\n",
    "\n",
    "Given a number, the task is to check if a number is divisible by 4 or not. The input number may be large and it may not be possible to store even if we use long long int."
   ]
  },
  {
   "cell_type": "code",
   "execution_count": 4,
   "id": "6bfa3c11",
   "metadata": {},
   "outputs": [
    {
     "name": "stdout",
     "output_type": "stream",
     "text": [
      "Yes\n"
     ]
    }
   ],
   "source": [
    "n=234567898765452\n",
    "if n%4==0:\n",
    "    print(\"Yes\")\n",
    "else:\n",
    "    print(\"No\")"
   ]
  },
  {
   "cell_type": "code",
   "execution_count": null,
   "id": "6f785290",
   "metadata": {},
   "outputs": [
    {
     "data": {
      "text/plain": [
       "True"
      ]
     },
     "execution_count": 9,
     "metadata": {},
     "output_type": "execute_result"
    }
   ],
   "source": [
    "def divisibleBy4(n):\n",
    "    if len(n)==0:\n",
    "        return False\n",
    "    if len(n)==1:\n",
    "        return n%4==0\n",
    "    second_last_number=int(n[-2:])\n",
    "    return (second_last_number)%4==0\n",
    "divisibleBy4(\"234567898765452\")\n",
    "# Time Complexity - O(1)\n",
    "# Auxiliary Space - O(1)\n",
    "# Checking Divisibility of the Last 2 Digits\n",
    "# Since input number may be very large, we cannot use n % 4 to check if a number is divisible by 4 or not, especially in languages like C/C++. The idea is based on following fact.\n",
    "\n",
    "# A number is divisible by 4 if number formed by last two digits of it is divisible by 4. For example, let us consider 76952. Number formed by last two digits = 52. \n",
    "# Since 52 is divisible by 4, answer is YES.\n",
    "\n",
    "# How does this work? Let us consider 76952, we can write it as 76952 = 7*10000 + 6*1000 + 9*100 + 5*10 + 2\n",
    "# The proof is based on below observation:\n",
    "# Remainder of 10i divided by 4 is 0 if i greater than or equal to two. Note than 100, 1000, .. etc lead to remainder 0 when divided by 4.\n",
    "# So remainder of \"7*10000 + 6*1000 + 9*100 + 5*10 + 2\" divided by 4 is equivalent to remainder\n",
    "# of following :\n",
    "# 0 + 0 + 0 + 5*10 + 2 = 52\n",
    "# Therefore we can say that the whole number is divisible by 4 if 52 is divisible by 4."
   ]
  },
  {
   "cell_type": "markdown",
   "id": "0c78d0ab",
   "metadata": {},
   "source": [
    "# Check if a large number is divisible by 11 or not\n",
    "\n",
    "Given a number in the form of string s, Check if the number is divisible by 11 or not. The input number may be large and it may not be possible to store it even if we use long long int.\n",
    "\n",
    "Examples: \n",
    "\n",
    "Input: s = \"76945\"\n",
    "Output: true\n",
    "Explanation: s when divided by 11 gives 0 as remainder.\n",
    "\n",
    "Input: s = \"7695\"\n",
    "Output: false\n",
    "Explanation: s does not give 0 as remainder when divided by 11.\n",
    "\n",
    "Input: s = \"1234567589333892\"\n",
    "Output: true\n",
    "Explanation:  s when divided by 11 gives 0 as remainder.\n",
    "[Expected Approach] - Even-Odd Digit Sum for Large String Input\n",
    "Since input number may be very large, we cannot use n % 11 to check if a number is divisible by 11 or not. The idea is based on following fact.\n",
    "A number is divisible by 11 if difference of following two is divisible by 11. \n",
    "\n",
    "Sum of digits at odd places.\n",
    "Sum of digits at even places.\n",
    "Illustration: \n",
    "\n",
    "For example, let us consider 76945 \n",
    "Sum of digits at odd places  : 7 + 9 + 5, Sum of digits at even places : 6 + 4 \n",
    "Difference of two sums = 21 - 10 = 11. Since difference is divisible by 11, the number 76945 is divisible by 11.\n",
    "\n",
    "How does this work? \n",
    "\n",
    "Let us consider 7694, we can write it as: 7694 = 7*1000 + 6*100 + 9*10 + 4\n",
    "The proof is based on below observation:\n",
    "\n",
    "Remainder of 10i divided by 11 = 1 if i is even\n",
    "Remainder of 10i divided by 11 = 10 ≡ -1 if i is odd\n",
    "So the powers of 10 only result in values either 1 or -1. Remainder of \"7*1000 + 6*100 + 9*10 + 4\" divided by 11 can be written as :\n",
    "7*(-1) + 6*1 + 9*(-1) + 4*1\n",
    "The above expression is basically difference between sum of even digits and odd digits.\n",
    "\n",
    "\n",
    "\n",
    "\n"
   ]
  },
  {
   "cell_type": "code",
   "execution_count": null,
   "id": "06545ab3",
   "metadata": {},
   "outputs": [
    {
     "data": {
      "text/plain": [
       "True"
      ]
     },
     "execution_count": 12,
     "metadata": {},
     "output_type": "execute_result"
    }
   ],
   "source": [
    "def divisibleBy11(n):\n",
    "    even_index_sum=0\n",
    "    odd_index_sum=0\n",
    "    for i in range(len(n)):\n",
    "        digit=int(n[i])\n",
    "        if i%2==0:\n",
    "            even_index_sum+=digit\n",
    "        else:\n",
    "            odd_index_sum+=digit\n",
    "    return (odd_index_sum-even_index_sum)%11==0\n",
    "divisibleBy11(\"76945\")\n",
    "# Time Complexity: O(n), where n is length of s.\n",
    "# Auxiliary Space: O(1)\n",
    "        "
   ]
  },
  {
   "cell_type": "markdown",
   "id": "cf0dd382",
   "metadata": {},
   "source": [
    "# Check if a larger number is divisible by 13 or not\n",
    "\n",
    "Given a number s represented as a string, determine whether the integer it represents is divisible by 13 or not."
   ]
  },
  {
   "cell_type": "code",
   "execution_count": 14,
   "id": "b7074e5e",
   "metadata": {},
   "outputs": [
    {
     "data": {
      "text/plain": [
       "True"
      ]
     },
     "execution_count": 14,
     "metadata": {},
     "output_type": "execute_result"
    }
   ],
   "source": [
    "def divisibleBy13(s):\n",
    "    rem=0\n",
    "    for ch in s:\n",
    "        rem=(rem*10)+int(ch)%3\n",
    "    return rem==0\n",
    "divisibleBy13('39')"
   ]
  },
  {
   "cell_type": "code",
   "execution_count": 15,
   "id": "2380fa35",
   "metadata": {},
   "outputs": [
    {
     "data": {
      "text/plain": [
       "5"
      ]
     },
     "execution_count": 15,
     "metadata": {},
     "output_type": "execute_result"
    }
   ],
   "source": [
    "def kthdigit(a,b,k):\n",
    "    mod=10**k\n",
    "    res=pow(a,b,mod)\n",
    "    return (res//10**(k-1))%10\n",
    "kthdigit(a=5,b=2,k=1)"
   ]
  },
  {
   "cell_type": "markdown",
   "id": "813d95e9",
   "metadata": {},
   "source": [
    "# Find Recurring Sequence in a Fraction\n",
    "\n",
    "Given a fraction, find a recurring sequence of digits if it exists, otherwise, print \"No recurring sequence\"."
   ]
  },
  {
   "cell_type": "code",
   "execution_count": null,
   "id": "228445fc",
   "metadata": {},
   "outputs": [
    {
     "data": {
      "text/plain": [
       "'27'"
      ]
     },
     "execution_count": 17,
     "metadata": {},
     "output_type": "execute_result"
    }
   ],
   "source": [
    "def fractionToDecimal(n,d):\n",
    "    res =''\n",
    "    mp={}\n",
    "    rem=n%d\n",
    "    while (rem!=0) and (rem not in mp):\n",
    "        mp[rem]=len(res)\n",
    "        rem=rem*10\n",
    "        res_part=rem//d\n",
    "        res+=str(res_part)\n",
    "        rem=rem%d\n",
    "    if(rem==0):\n",
    "        return ''\n",
    "    else:\n",
    "        return res[mp[rem]:]\n",
    "    \n",
    "fractionToDecimal(50,22)\n",
    "# Time Complexity : O(N) \n",
    "# Auxiliary Space : O(N) , as we use map as extra space.\n",
    "\n",
    "# When does the fractional part repeat?\n",
    "# Let us simulate the process of converting fractions to decimals. Let us look at the part where we have already figured out the integer part, \n",
    "# which is floor(numerator/denominator). Now we are left with ( remainder = numerator%denominator ) / denominator. \n",
    "\n",
    "# If you remember the process of converting to decimal, at each step we do the following : \n",
    "\n",
    "# Multiply the remainder by 10.\n",
    "# Append the remainder/denominator to the result.\n",
    "# Remainder = remainder % denominator.\n",
    "# At any moment, if the remainder becomes 0, we are done.\n",
    "# However, when there is a recurring sequence, the remainder never becomes 0. For example, if you look at 1/3, the remainder never becomes 0.\n",
    "\n",
    "# Below is one important observation : \n",
    "# If we start with the remainder 'rem' and if the remainder repeats at any point in time, the digits between the two occurrences of 'rem' keep repeating.\n",
    "# So the idea is to store seen remainders in a map. Whenever a remainder repeats, we return the sequence before the next occurrence. "
   ]
  },
  {
   "cell_type": "markdown",
   "id": "0f488d45",
   "metadata": {},
   "source": [
    "# Program to calculate the value of nPr\n",
    "\n",
    "Given two numbers, n and r, the task is to compute nPr, which represents the number of ways to arrange r elements from a set of n elements.\n",
    " It is calculated using the formula n!/(n−r)!, where \"!\" denotes the factorial operation.\n",
    "\n",
    "nPr = n! / (n - r)! "
   ]
  },
  {
   "cell_type": "code",
   "execution_count": null,
   "id": "d27549ab",
   "metadata": {},
   "outputs": [
    {
     "data": {
      "text/plain": [
       "20.0"
      ]
     },
     "execution_count": 18,
     "metadata": {},
     "output_type": "execute_result"
    }
   ],
   "source": [
    "def fact(n):\n",
    "    res=1\n",
    "    for i in range(2,n+1):\n",
    "        res*=i\n",
    "    return res\n",
    "def nPr(n,r):\n",
    "    return fact(n)/fact(n-r)\n",
    "nPr(5,2)\n",
    "\n",
    "# Approach: Using Iterative Factorial Method - O(n) time and O(1) space\n",
    "# This approach calculates nPr using an iterative factorial function. It first computes n! and (n - r)! separately and then divides them to get the result.\n",
    "# The factorial function uses a loop to multiply numbers from 1 to n.\n"
   ]
  },
  {
   "cell_type": "markdown",
   "id": "8c9259b2",
   "metadata": {},
   "source": [
    "# Program to calculate value of nCr\n",
    "\n",
    "Given two numbers n and r, The task is to find the value of nCr . Combinations represent the number of ways to choose r elements from a set of n distinct elements, without regard to the order in which they are selected. The formula for calculating combinations is :"
   ]
  },
  {
   "cell_type": "code",
   "execution_count": null,
   "id": "00c0e79b",
   "metadata": {},
   "outputs": [
    {
     "name": "stdout",
     "output_type": "stream",
     "text": [
      "10\n"
     ]
    }
   ],
   "source": [
    "def fact(n,r):\n",
    "    res=1\n",
    "    for i in range(r):\n",
    "        res=res*(n-i)//(i+1)\n",
    "    return res\n",
    "print(fact(5,2))\n",
    "# By using Binomial Coefficient formula - O(r) Time and O(1) Space\n",
    "# A binomial coefficient C(n, k) can be defined as the coefficient of Xk in the expansion of (1 + X)n.\n",
    "# A binomial coefficient C(n, k) also gives the number of ways, disregarding order, that k objects can be chosen from among n objects; more formally, \n",
    "# the number of k-element subsets (or k-combinations) of an n-element set.\n",
    "# Iterative way of calculating nCr   using binomial coefficient formula."
   ]
  },
  {
   "cell_type": "code",
   "execution_count": null,
   "id": "564d947a",
   "metadata": {},
   "outputs": [
    {
     "name": "stdout",
     "output_type": "stream",
     "text": [
      "10\n"
     ]
    }
   ],
   "source": [
    "def fact(n):\n",
    "    res=1\n",
    "    for i in range(2,n+1):\n",
    "        res*=i\n",
    "    return res\n",
    "def nCr(n,r):\n",
    "    return fact(n)//(fact(n-r)*fact(r))\n",
    "print(nCr(5,2))\n"
   ]
  },
  {
   "cell_type": "markdown",
   "id": "8b2b6ff1",
   "metadata": {},
   "source": [
    "# Program to Print Pascal's Triangle\n",
    "\n",
    "Given an integer n, the task is to find the first n rows of Pascal's triangle. Pascal's triangle is a triangular array of binomial coefficients."
   ]
  },
  {
   "cell_type": "code",
   "execution_count": null,
   "id": "0c821382",
   "metadata": {},
   "outputs": [
    {
     "name": "stdout",
     "output_type": "stream",
     "text": [
      "1 \n",
      "1 1 \n",
      "1 2 2 \n",
      "1 3 4 4 \n",
      "1 4 8 10 10 \n"
     ]
    }
   ],
   "source": [
    "def printPascal(n):\n",
    "    for row in range(1,n+1):\n",
    "        c=1\n",
    "        for i in range(1,row+1):\n",
    "            print(c,end=' ')\n",
    "            c=c*(row-1)//i\n",
    "        print()\n",
    "printPascal(5)\n",
    "\n",
    "# '''[Expected Approach] Using Binomial Coefficient (Space Optimized)\n",
    "# This method is based on approach using Binomial Coefficient. \n",
    "# We know that ith entry in a row (n) in Binomial Coefficient is nCi and all rows start with value 1. \n",
    "#     The idea is to calculate nCi-1  using nCi . It can be calculated in O(1) time.\n",
    "\n",
    "# nCi = n! / (i! * (n-i)!)   - (Eq - 1)\n",
    "# nCi-1 = n! / ((i-1)! * (n-i+1)!)  - (Eq - 2)\n",
    "# On solving Eq- 1 further , we get  nCi = n! / (n-i)! * i * (i-1)!) -  (Eq - 3)\n",
    "# On solving Eq- 2 further , we get  nCi-1  = n! / ((n- i + 1) * (n-i)! * (i-1)! ) - (Eq - 4)\n",
    "# Now, divide Eq - 3 by Eq - 4: \n",
    "# nCi = nCi-1 * (n-i+1) / i  , So nCi can be calculated from nCi-1 in O(1) time'''"
   ]
  },
  {
   "cell_type": "markdown",
   "id": "b14e6d50",
   "metadata": {},
   "source": [
    "# Find all factors of a Positive Number\n",
    "\n",
    "Given a positive integer n, find all the distinct divisors of n."
   ]
  },
  {
   "cell_type": "code",
   "execution_count": null,
   "id": "ae9fd83e",
   "metadata": {},
   "outputs": [
    {
     "data": {
      "text/plain": [
       "[1, 2, 5, 10]"
      ]
     },
     "execution_count": 24,
     "metadata": {},
     "output_type": "execute_result"
    }
   ],
   "source": [
    "# [Naive Approach] Iterating till n - O(n) Time and O(1) Space\n",
    "# The idea is to iterate over all the numbers from 1 to n and for each number check if the\n",
    "# number divides n. If the number divides n, print it. \n",
    "def factors(n):\n",
    "    factors=[]\n",
    "    for i in range (1,n+1):\n",
    "        if n%i==0:\n",
    "            factors.append(i)\n",
    "    return factors\n",
    "factors(10)\n"
   ]
  },
  {
   "cell_type": "code",
   "execution_count": null,
   "id": "047ed6e9",
   "metadata": {},
   "outputs": [
    {
     "name": "stdout",
     "output_type": "stream",
     "text": [
      "[1, 10, 2, 5]\n"
     ]
    }
   ],
   "source": [
    "# [Expected Approach] Finding all factors in pairs - O(sqrt(n)) Time and O(1) Space\n",
    "# If we look carefully, all the divisors of a number appear in pairs.\n",
    "# For example, if n = 100, then the divisor pairs are:\n",
    "# (1, 100), (2, 50), (4, 25), (5, 20), (10, 10).\n",
    "\n",
    "# We need to be careful in cases like (10, 10)—i.e., when both divisors in a pair are equal\n",
    "# (which happens when n is a perfect square). In such cases, we should include that divisor only once.\n",
    "# Using this fact, we can optimize our program significantly.\n",
    "\n",
    "# Instead of iterating from 1 to n, we only need to iterate from 1 to √n.\n",
    "# Why? Because for any factor a of n, the corresponding factor b = n / a forms a pair (a, b).\n",
    "# At least one of the two values in any such pair must lie within the range [1, √n].\n",
    "\n",
    "# So, we can:\n",
    "\n",
    "# Iterate from 1 to √n to find all divisors less than or equal to √n.\n",
    "# For each such divisor d, also add n / d as the paired divisor.\n",
    "# Take care not to duplicate the square root divisor if n is a perfect square.\n",
    "\n",
    "import math\n",
    "def factors(n):\n",
    "    fact=[]\n",
    "    for i in range(1,int(math.sqrt(n))+1):\n",
    "        if n%i==0:\n",
    "            if n//i==i:\n",
    "                fact.append(i)\n",
    "            else:\n",
    "                fact.append(i)\n",
    "                fact.append(n//i)\n",
    "    return fact\n",
    "print(factors(10))\n"
   ]
  },
  {
   "cell_type": "code",
   "execution_count": null,
   "id": "8a6645bf",
   "metadata": {},
   "outputs": [
    {
     "name": "stdout",
     "output_type": "stream",
     "text": [
      "[2, 5]\n"
     ]
    }
   ],
   "source": [
    "import math\n",
    "def compute_spf(n):\n",
    "    spf=[i for i in range(n+1)]\n",
    "    for i in range(2,int(math.sqrt(n))+1):\n",
    "        if spf[i] == i:\n",
    "            for j in range(i*i,n+1,i):\n",
    "                if spf[j]==j:\n",
    "                    spf[j]=i\n",
    "    return spf\n",
    "def PrimeFactor(n,spf):\n",
    "    res=set()\n",
    "    while n>1:\n",
    "        res.add(spf[n])\n",
    "        n//=spf[n]\n",
    "    return sorted(res)\n",
    "n=100\n",
    "spf=compute_spf(n)\n",
    "print(PrimeFactor(n,spf))\n",
    "\n",
    "# Time Complexity: O(n*log(log(n))) - The SPF array is built in O(n(log(log(n))) time using the sieve. \n",
    "# Then, finding the unique prime factors of a single number n takes O(log(n)) time.\n",
    "# Auxiliary Space: O(n) - The algorithm uses O(n) space for the SPF array, which stores the smallest prime factor \n",
    "# for each number up to n."
   ]
  },
  {
   "cell_type": "code",
   "execution_count": 6,
   "id": "97e59276",
   "metadata": {},
   "outputs": [
    {
     "name": "stdout",
     "output_type": "stream",
     "text": [
      "5\n"
     ]
    }
   ],
   "source": [
    "import math\n",
    "def compute_spf(n):\n",
    "    spf=[i for i in range(n+1)]\n",
    "    for i in range(2,int(math.sqrt(n))+1):\n",
    "        if spf[i] == i:\n",
    "            for j in range(i*i,n+1,i):\n",
    "                if spf[j]==j:\n",
    "                    spf[j]=i\n",
    "    return spf\n",
    "def PrimeFactor(n,spf):\n",
    "    res=set()\n",
    "    while n>1:\n",
    "        res.add(spf[n])\n",
    "        n//=spf[n]\n",
    "    r=list(res)\n",
    "    max=r[0]\n",
    "    for i in r:\n",
    "        if i >max:\n",
    "            max=i\n",
    "    return max\n",
    "n=100\n",
    "spf=compute_spf(n)\n",
    "print(PrimeFactor(n,spf))"
   ]
  },
  {
   "cell_type": "markdown",
   "id": "7abb8a5b",
   "metadata": {},
   "source": [
    "# Modular Exponentiation (Power in Modular Arithmetic)\n",
    "\n",
    "Given three integers x, n, and M, compute (xn) % M (remainder when x raised to the power n is divided by M)."
   ]
  },
  {
   "cell_type": "code",
   "execution_count": null,
   "id": "f5fbe347",
   "metadata": {},
   "outputs": [
    {
     "name": "stdout",
     "output_type": "stream",
     "text": [
      "1\n"
     ]
    }
   ],
   "source": [
    "def modularExp(x,n,m):\n",
    "    res=1\n",
    "    while n>=1:\n",
    "        if n%2==1:\n",
    "            res=(res*x)%m\n",
    "            n-=1\n",
    "        else:\n",
    "            x=(x*x)%m\n",
    "            n//=2\n",
    "    return res\n",
    "print(modularExp(3,2,4))\n",
    "\n",
    "# Time complexity: O(sqrt(n))\n",
    "# Auxiliary space: O(1)\n",
    "# [Expected Approach] Optimized Trial Division\n",
    "# The method first removes all factors of 2 and 3 to simplify the number.\n",
    "# After eliminating these smallest primes, further factorization follows a structured approach.\n",
    "# Instead of checking all odd numbers, only numbers of the form 6k ± 1 are tested.\n",
    "# This works because all prime numbers greater than 3 follow this pattern.\n",
    "# By skipping unnecessary checks, the approach reduces iterations while efficiently finding the largest prime factor."
   ]
  },
  {
   "attachments": {
    "image.png": {
     "image/png": "[encoded data removed]"
    }
   },
   "cell_type": "markdown",
   "id": "5ff3f12d",
   "metadata": {},
   "source": [
    "# Program to find the Catalan number\n",
    "Catalan numbers are defined as a mathematical sequence that consists of positive integers, which can be used to find the number of possibilities of various combinations.  The nth term in the sequence denoted Cn, is found in the following formula: \n",
    "![image.png](attachment:image.png)\n",
    "The first few Catalan numbers for n = 0, 1, 2, 3, 4, 5… are: 1, 1, 2, 5, 14, 42, 132, 429, 1430, 4862, ...  so on.\n",
    "Catalan numbers occur in many interesting counting problems like the following.\n",
    "\n",
    "Count the number of expressions containing n pairs of parentheses that are correctly matched.\n",
    "Count the number of possible Binary Search Trees with n keys (See this)\n",
    "Count the number of full binary trees (A rooted binary tree is full if every vertex has either two children or no children) with n+1 leaves.\n",
    "Given a number n, return the number of ways you can draw n chords in a circle with 2 x n points such that no 2 chords intersect.\n",
    "Refer to this for more applications. "
   ]
  },
  {
   "attachments": {
    "image.png": {
     "image/png": "[encoded data removed]"
    }
   },
   "cell_type": "markdown",
   "id": "44772f26",
   "metadata": {},
   "source": [
    "![image.png](attachment:image.png)"
   ]
  },
  {
   "cell_type": "code",
   "execution_count": null,
   "id": "81325489",
   "metadata": {},
   "outputs": [
    {
     "name": "stdout",
     "output_type": "stream",
     "text": [
      "132\n"
     ]
    }
   ],
   "source": [
    "def findCatalan(n):\n",
    "    if n<=1:\n",
    "        return 1\n",
    "    res=0\n",
    "    for i in range(n):\n",
    "        res+=findCatalan(i)*findCatalan(n-i-1)\n",
    "    return res\n",
    "print(findCatalan(6))\n",
    "# step-by-step approach:\n",
    "\n",
    "# Base condition for the recursive approach, when n <= 1, return 1.\n",
    "# Iterate from i = 0 to i < n.\n",
    "# Make a recursive call catalan(i) and catalan(n - i - 1) and keep adding the product of both into res.\n",
    "# Return the res.\n"
   ]
  },
  {
   "cell_type": "code",
   "execution_count": null,
   "id": "8097d7f1",
   "metadata": {},
   "outputs": [
    {
     "name": "stdout",
     "output_type": "stream",
     "text": [
      "132\n"
     ]
    }
   ],
   "source": [
    "def findCatalan(n):\n",
    "    catalan = [0]*(n+1)\n",
    "    catalan[0]=catalan[1]=1\n",
    "    for i in range(2,n+1):\n",
    "        catalan[i]=0\n",
    "        for j in range(i):\n",
    "            catalan[i]+=catalan[j]*catalan[i-j-1]\n",
    "    return catalan[n]\n",
    "print(findCatalan(6))\n",
    "# Time Complexity: O(n2)\n",
    "# Auxiliary Space: O(n)\n",
    "# Better Approach] By using Dynamic Programming\n",
    "# We can observe that the above recursive implementation does a lot of repeated work. \n",
    "# Since there are overlapping subproblems, we can use dynamic programming for this.\n",
    "\n",
    "# Step-by-step approach:\n",
    "\n",
    "# Create an array catalan[] for storing ith Catalan number.\n",
    "# Initialize, catalan[0] and catalan[1] = 1\n",
    "# Loop through i = 2 to the given Catalan number n.\n",
    "# Loop through j = 0 to j < i and Keep adding value of catalan[j] * catalan[i - j - 1] into catalan[i].\n",
    "# Finally, return catalan[n]"
   ]
  },
  {
   "cell_type": "markdown",
   "id": "79bb64b0",
   "metadata": {},
   "source": [
    "# Binomial Coefficient\n",
    "\n",
    "Given an integer values n and k, the task is to find the value of Binomial Coefficient C(n, k).\n",
    "\n",
    "A binomial coefficient C(n, k) can be defined as the coefficient of x^k in the expansion of (1 + x)^n.\n",
    "A binomial coefficient C(n, k) also gives the number of ways, disregarding order, that k objects can be chosen from among n objects more formally, the number of k-element subsets (or k-combinations) of a n-element set."
   ]
  },
  {
   "cell_type": "code",
   "execution_count": null,
   "id": "27f0e98a",
   "metadata": {},
   "outputs": [
    {
     "data": {
      "text/plain": [
       "10"
      ]
     },
     "execution_count": 6,
     "metadata": {},
     "output_type": "execute_result"
    }
   ],
   "source": [
    "def BinomialCoefficient(n,k):\n",
    "    dp = [0]*(k+1)\n",
    "    dp[0]=1\n",
    "    for i in range(1,n+1):\n",
    "        for j in range(min(i,k),0,-1):\n",
    "            dp[j]=dp[j]+dp[j-1]\n",
    "    return dp[k]\n",
    "BinomialCoefficient(5,2)\n",
    "# In the previous approach using dynamic programming, we derived a relation between states as follows:\n",
    "\n",
    "# dp[i][j] = dp[i-1][j-1]+dp[i-1][j]\n",
    "# We do not need to maitain whole matrix for this. We can just maintain one array of length k and add dp[j-1] every time to dp[j];\n",
    "\n",
    "# Use a 1D array dp[] of size k+1 to store binomial coefficients, reducing space complexity to O(k).\n",
    "# Set dp[0] = 1, representing nC0=1.\n",
    "# Update dp[j] in reverse order, using the previous values from the same array.\n",
    "# Each entry dp[j] is updated as dp[j] + dp[j-1] for each row.\n",
    "# The final value of dp(n,k) is stored in dp[k], and returned.\n",
    "# O(n * k) Time and O(k) Space"
   ]
  },
  {
   "cell_type": "markdown",
   "id": "941f1a4a",
   "metadata": {},
   "source": [
    "# Power Set\n",
    "Power Set\n",
    "\n",
    "Power Set P(S) of a set S is the set of all subsets of S. For example S = {a, b, c} then P(s) = {{}, {a}, {b}, {c}, {a,b}, {a, c}, {b, c}, {a, b, c}}. If S has n elements in it then P(s) will have 2n elements\n",
    "\n",
    "Examples\n",
    "Input: s = \"ab\"\n",
    "Output: \"\", \"a\", \"b\", \"ab\"\n",
    "Explanation: The power set of \"ab\" includes all possible subsets: empty set, single characters, and full string.\n",
    "\n",
    "Input: s = \"abc\"\n",
    "Output: \"\", \"a\", \"b\", \"c\", \"ab\", \"bc\", \"ac\", \"abc\"\n",
    "Explanation: The power set of \"abc\" includes all subsets formed by choosing any combination of its characters.\n",
    "\n",
    "Input: s = \"a\"\n",
    "Output: \"\", \"a\"\n",
    "Explanation: The power set of \"a\" consists of the empty set and the single character itself."
   ]
  },
  {
   "cell_type": "code",
   "execution_count": 12,
   "id": "d812748f",
   "metadata": {},
   "outputs": [
    {
     "name": "stdout",
     "output_type": "stream",
     "text": [
      "['', 'a', 'b', 'ab', 'c', 'ac', 'bc', 'abc']\n"
     ]
    }
   ],
   "source": [
    "def allPossibleSets(s):\n",
    "    n=len(s)\n",
    "    result=[]\n",
    "    for i in range(1<<n):\n",
    "        subset=\"\"\n",
    "        for j in range(n):\n",
    "            if i &(1<<j):\n",
    "                subset+=s[j]\n",
    "        result.append(subset)\n",
    "    return result\n",
    "\n",
    "print(allPossibleSets('abc'))\n",
    "# Time Complexity: O(n * 2n)\n",
    "# Auxiliary Space: O(1)\n",
    "        "
   ]
  },
  {
   "cell_type": "markdown",
   "id": "fe84d920",
   "metadata": {},
   "source": [
    "# Next permutation\n",
    "\n",
    "Given an array of integers arr[] representing a permutation (i.e., all elements are unique and arranged in some order), find the next lexicographically greater permutation by rearranging the elements of the array.\n",
    "If such a permutation does not exist (i.e., the array is the last possible permutation), rearrange the elements to form the lowest possible order (i.e., sorted in ascending order)."
   ]
  },
  {
   "cell_type": "markdown",
   "id": "3006add8",
   "metadata": {},
   "source": [
    "[Expected Approach] Generating Only Next - O(n) Time and O(1) Space\n",
    "Let's try some examples to see if we can recognize some patterns. \n",
    "\n",
    "[1, 2, 3, 4, 5]: next is [1, 2, 3, 5, 4]  \n",
    "Observation: 4 moves and 5 comes in place of it\n",
    "\n",
    "[1, 2, 3, 5, 4]: next is [1, 2, 4, 3, 5] \n",
    "Observation: 3 moves, 4 comes in place of it. 3 comes before 5 (mainly 3 and 5 are in sorted order)\n",
    "\n",
    "[1, 2, 3, 6, 5, 4]: next is [1, 2, 4, 3, 5, 6] \n",
    "Observation: 3 moves, 4 comes in place of it. [3, 5 and 6 are placed in sorted order]\n",
    "\n",
    "[3, 2, 1]: next is [1, 2, 3]\n",
    "Observation: All elements are reverse sorted. Result is whole array sorted.\n",
    "\n",
    "Observations of Next permutation: \n",
    "\n",
    "To get the next permutation we change the number in a position which is as right as possible.\n",
    "The first number to be moved is the rightmost number smaller than its next.\n",
    "The number to come in-place is the rightmost greater number on right side of the pivot.\n",
    "Each permutation (except the very first) has an increasing suffix. Now if we change the pattern from the pivot point (where the increasing suffix breaks) to its next possible lexicographic representation we will get the next greater permutation."
   ]
  },
  {
   "cell_type": "markdown",
   "id": "be5af880",
   "metadata": {},
   "source": [
    "Step-By-Step Approach:\n",
    "\n",
    "Iterate over the given array from end and find the first index (pivot) which doesn't follow property of non-increasing suffix, (i.e,  arr[i] < arr[i + 1]).\n",
    "If pivot index does not exist, then the given sequence in the array is the largest as possible. So, reverse the complete array. For example, for [3, 2, 1], the output would be [1, 2, 3]\n",
    "Otherwise, Iterate the array from the end and find for the successor (rightmost greater element) of pivot in suffix.\n",
    "Swap the pivot and successor\n",
    "Minimize the suffix part by reversing the array from pivot + 1 till n."
   ]
  },
  {
   "cell_type": "code",
   "execution_count": 16,
   "id": "b71274ca",
   "metadata": {},
   "outputs": [
    {
     "name": "stdout",
     "output_type": "stream",
     "text": [
      "2 4 7 0 1 5\n"
     ]
    }
   ],
   "source": [
    "def nextPermutation(a):\n",
    "    n=len(a)\n",
    "    pivot=-1\n",
    "    for i in range(n-2,-1,-1):\n",
    "        if a[i]<a[i+1]:\n",
    "            pivot=i\n",
    "            break\n",
    "    if pivot==-1:\n",
    "        a.reverse()\n",
    "        return\n",
    "    for i in range(n-1,pivot,-1):\n",
    "        if a[i]>a[pivot]:\n",
    "            a[i],a[pivot]=a[pivot],a[i]\n",
    "    left,right=pivot+1,n-1\n",
    "    while left<right:\n",
    "        a[left],a[right]=a[right],a[left]\n",
    "        left+=1\n",
    "        right-=1\n",
    "arr = [ 2, 4, 1, 7, 5, 0 ]\n",
    "nextPermutation(arr)\n",
    "print(\" \".join(map(str, arr)))"
   ]
  },
  {
   "cell_type": "code",
   "execution_count": null,
   "id": "9cb3db12",
   "metadata": {},
   "outputs": [],
   "source": []
  }
 ],
 "metadata": {
  "kernelspec": {
   "display_name": "Python 3",
   "language": "python",
   "name": "python3"
  },
  "language_info": {
   "codemirror_mode": {
    "name": "ipython",
    "version": 3
   },
   "file_extension": ".py",
   "mimetype": "text/x-python",
   "name": "python",
   "nbconvert_exporter": "python",
   "pygments_lexer": "ipython3",
   "version": "3.10.2"
  }
 },
 "nbformat": 4,
 "nbformat_minor": 5
}
