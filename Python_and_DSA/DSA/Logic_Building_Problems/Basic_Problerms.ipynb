{
 "cells": [
  {
   "cell_type": "markdown",
   "id": "d57efbcb",
   "metadata": {},
   "source": [
    "## LOGIC BUILDING BASIC PROBLEMS"
   ]
  },
  {
   "cell_type": "markdown",
   "id": "14ebe2f8",
   "metadata": {},
   "source": [
    "#Even or Odd"
   ]
  },
  {
   "cell_type": "code",
   "execution_count": 2,
   "id": "ac04bd1e",
   "metadata": {},
   "outputs": [
    {
     "data": {
      "text/plain": [
       "True"
      ]
     },
     "execution_count": 2,
     "metadata": {},
     "output_type": "execute_result"
    }
   ],
   "source": [
    "def isEven(n):\n",
    "    if(n%2==0):\n",
    "        return True\n",
    "    else:\n",
    "        return False\n",
    "isEven(6)\n",
    "# By Finding the Remainder - O(1) Time and O(1) Space\n",
    "# We can check the remainder when divided by 2. If the remainder is 0, the number is even, otherwise it is odd."
   ]
  },
  {
   "cell_type": "code",
   "execution_count": null,
   "id": "77d7aa32",
   "metadata": {},
   "outputs": [
    {
     "data": {
      "text/plain": [
       "True"
      ]
     },
     "execution_count": 2,
     "metadata": {},
     "output_type": "execute_result"
    }
   ],
   "source": [
    "#Bit wise solution \n",
    "def isEven(n):\n",
    "    if(n&1):\n",
    "        return False\n",
    "    else:\n",
    "        return True\n",
    "isEven(6)\n",
    "'''[Efficient Approach] Using Bitwise AND Operator - O(1) Time and O(1) Space\n",
    "The last bit of all odd numbers is always 1, while for even numbers it’s 0. \n",
    "So, when performing bitwise AND operation with 1, odd numbers give 1, and even numbers give 0.\n",
    "Note: Bitwise operators are extremely fast and efficient because they operate directly at the binary level, \n",
    "making them significantly faster than arithmetic or logical operations.\n",
    "15  ->               1 1 1 1\n",
    "                  &  0 0 0 1\n",
    "                     -------\n",
    "                     0 0 0 1 , so this we can say it is an odd number.\n",
    "\n",
    "44 ->        1 0 1 1 0 0\n",
    "          &  0 0 0 0 0 1\n",
    "              ----------\n",
    "             0 0 0 0 0 0 , so this we can say it is an even number.'''\n"
   ]
  },
  {
   "cell_type": "markdown",
   "id": "61cfbf89",
   "metadata": {},
   "source": [
    "#Multiplication Table"
   ]
  },
  {
   "cell_type": "code",
   "execution_count": null,
   "id": "c224293d",
   "metadata": {},
   "outputs": [
    {
     "name": "stdout",
     "output_type": "stream",
     "text": [
      "2 * 0 = 0\n",
      "2 * 1 = 2\n",
      "2 * 2 = 4\n",
      "2 * 3 = 6\n",
      "2 * 4 = 8\n",
      "2 * 5 = 10\n",
      "2 * 6 = 12\n",
      "2 * 7 = 14\n",
      "2 * 8 = 16\n",
      "2 * 9 = 18\n",
      "2 * 10 = 20\n"
     ]
    }
   ],
   "source": [
    "#Loop approach - while loop\n",
    "def multiplicationTable(n):\n",
    "    i=0\n",
    "    while i<=10:\n",
    "        print(f'{n} * {i} = {n*i}')\n",
    "        i=i+1\n",
    "multiplicationTable(2)\n",
    "# Time Complexity - O(1)\n",
    "# Space Complexity - O(1)"
   ]
  },
  {
   "cell_type": "code",
   "execution_count": 7,
   "id": "00287afc",
   "metadata": {},
   "outputs": [
    {
     "name": "stdout",
     "output_type": "stream",
     "text": [
      "6*1=6\n",
      "6*2=12\n",
      "6*3=18\n",
      "6*4=24\n",
      "6*5=30\n",
      "6*6=36\n",
      "6*7=42\n",
      "6*8=48\n",
      "6*9=54\n",
      "6*10=60\n"
     ]
    }
   ],
   "source": [
    "#for loop\n",
    "def multiplicationTable(n):\n",
    "    for i in range(1,11):\n",
    "        print(f'{n}*{i}={n*i}')\n",
    "multiplicationTable(6)"
   ]
  },
  {
   "cell_type": "code",
   "execution_count": null,
   "id": "0e652218",
   "metadata": {},
   "outputs": [
    {
     "name": "stdout",
     "output_type": "stream",
     "text": [
      "5*1=5\n",
      "5*2=10\n",
      "5*3=15\n",
      "5*4=20\n",
      "5*5=25\n",
      "5*6=30\n",
      "5*7=35\n",
      "5*8=40\n",
      "5*9=45\n",
      "5*10=50\n"
     ]
    }
   ],
   "source": [
    "#using recursion based approach\n",
    "# printTable() prints table of number and takes\n",
    "# 1 required value that is number of whose teble to be printed\n",
    "# and an optional input i whose default value is 1\n",
    "def printTable(n,i=1):\n",
    "    if i==11:\n",
    "        return\n",
    "    print(f'{n}*{i}={n*i}')\n",
    "    i+=1\n",
    "    printTable(n,i)\n",
    "\n",
    "if __name__ == \"__main__\":\n",
    "  n = 5\n",
    "  printTable(5)\n",
    "\n",
    "# Time Complexity - O(1)\n",
    "# Space Complexity - O(1) \n"
   ]
  },
  {
   "cell_type": "markdown",
   "id": "94125289",
   "metadata": {},
   "source": [
    "#Sum of natural numbers"
   ]
  },
  {
   "cell_type": "code",
   "execution_count": 6,
   "id": "ca107a9c",
   "metadata": {},
   "outputs": [],
   "source": [
    "def sumofNaturalNumbers(n):\n",
    "    result=0\n",
    "    for i in range(n+1):\n",
    "        result+=i\n",
    "    return result\n",
    "if __name__=='__main__':\n",
    "    sumofNaturalNumbers(3)\n",
    "\n",
    "#[Naive Approach] Using Loop - O(n) Time and O(1) Space\n",
    "# Calculate the sum of all integers from 1 to n by iterating through a loop."
   ]
  },
  {
   "cell_type": "code",
   "execution_count": null,
   "id": "cb15c001",
   "metadata": {},
   "outputs": [
    {
     "name": "stdout",
     "output_type": "stream",
     "text": [
      "6\n"
     ]
    }
   ],
   "source": [
    "def sumofNaturalNumbers(n):\n",
    "    if n==1:\n",
    "        return 1\n",
    "    return n+sumofNaturalNumbers(n-1)\n",
    "\n",
    "if __name__=='__main__':\n",
    "    print(sumofNaturalNumbers(3))\n",
    "\n",
    "#[Alternative Approach] Using Recursion -O(n) and O(n) Space\n",
    "'''In this approach, we use recursion to find the sum of the first n natural numbers. \n",
    "The function calls itself with (n-1) until it reaches the base case of n = 1. \n",
    "Each call adds the current value of n to the sum of smaller values, effectively building the result in a top-down manner'''\n"
   ]
  },
  {
   "cell_type": "code",
   "execution_count": null,
   "id": "843f8f45",
   "metadata": {},
   "outputs": [
    {
     "data": {
      "text/plain": [
       "6"
      ]
     },
     "execution_count": 10,
     "metadata": {},
     "output_type": "execute_result"
    }
   ],
   "source": [
    "def sumofNaturalNumbers(n):\n",
    "    return n*(n+1)//2\n",
    "sumofNaturalNumbers(3)\n",
    "   # Using mathematical formula to compute\n",
    "    # sum of first n natural numbers\n",
    "'''We can prove this formula using induction.\n",
    "It is true for n = 1 and n = 2\n",
    "For n = 1, sum = 1 * (1 + 1)/2 = 1\n",
    "For n = 4, sum = 4* (4 + 1)/2 = 10\n",
    "Let it be true for k = n-1.\n",
    "Sum of k numbers = (k * (k+1))/2\n",
    "Putting k = n-1, we get\n",
    "Sum of k numbers = ((n-1) * (n-1+1))/2\n",
    "                 = (n - 1) * n / 2\n",
    "If we add n, we get,\n",
    "Sum of n numbers = n + (n - 1) * n / 2\n",
    "                 = (2n + n2 - n)/2\n",
    "                 = n * (n + 1)/2'''"
   ]
  },
  {
   "cell_type": "markdown",
   "id": "3a397d38",
   "metadata": {},
   "source": [
    "#Sum of squares of first n natural numbers"
   ]
  },
  {
   "cell_type": "code",
   "execution_count": null,
   "id": "93e8a8af",
   "metadata": {},
   "outputs": [
    {
     "data": {
      "text/plain": [
       "30"
      ]
     },
     "execution_count": 11,
     "metadata": {},
     "output_type": "execute_result"
    }
   ],
   "source": [
    "def ssfnnn(n):\n",
    "    result=0\n",
    "    for i in range(n+1):\n",
    "        result+=i**2\n",
    "    return result\n",
    "ssfnnn(4)\n",
    "# Adding One By One - O(n) Time and O(1) Space\n",
    "# The idea for this naive approach is to run a loop from 1 to n and sum up all the squares. "
   ]
  },
  {
   "cell_type": "code",
   "execution_count": null,
   "id": "6c3209a9",
   "metadata": {},
   "outputs": [
    {
     "data": {
      "text/plain": [
       "30"
      ]
     },
     "execution_count": 12,
     "metadata": {},
     "output_type": "execute_result"
    }
   ],
   "source": [
    "def ssfnnn(n):\n",
    "    return (n*(n+1)*((2*n)+1))//6\n",
    "ssfnnn(4)\n",
    "'''[Expected Approach]- Using Mathematical Formulae - O(1) Time and O(1) Space\n",
    "The idea for this approach is to use the mathematical formulae for the sum of squares of first n natural numbers. \n",
    "\n",
    "12 + 22 + ......... + n2 = n(n+1)(2n+1) / 6'''"
   ]
  },
  {
   "cell_type": "markdown",
   "id": "7c9aa262",
   "metadata": {},
   "source": [
    "#Swap Two Numbers"
   ]
  },
  {
   "cell_type": "code",
   "execution_count": null,
   "id": "54a74632",
   "metadata": {},
   "outputs": [
    {
     "name": "stdout",
     "output_type": "stream",
     "text": [
      "5 3\n"
     ]
    }
   ],
   "source": [
    "def swapTwoNumbers(a,b):\n",
    "    temp=a\n",
    "    a=b\n",
    "    b=temp\n",
    "    print(a,b)\n",
    "\n",
    "swapTwoNumbers(3,5)\n",
    "# [Naive Approach] Using Third Variable\n",
    "# Time Complexity: O(1)\n",
    "# Auxiliary Space: O(1)\n"
   ]
  },
  {
   "cell_type": "code",
   "execution_count": null,
   "id": "40e4690f",
   "metadata": {},
   "outputs": [
    {
     "name": "stdout",
     "output_type": "stream",
     "text": [
      "5 3\n"
     ]
    }
   ],
   "source": [
    "def swapTwoNumbers(a,b):\n",
    "    a=a+b\n",
    "    b=a-b\n",
    "    a=a-b\n",
    "    print(a,b)\n",
    "swapTwoNumbers(3,5)\n",
    "# Using arithmetic operations w/o using third variable.\n",
    "# Time Complexity: O(1)\n",
    "# Auxiliary Space: O(1)"
   ]
  },
  {
   "cell_type": "code",
   "execution_count": null,
   "id": "7e99e4f6",
   "metadata": {},
   "outputs": [
    {
     "name": "stdout",
     "output_type": "stream",
     "text": [
      "5 3\n"
     ]
    }
   ],
   "source": [
    "def swapTwoNumbers(a,b):\n",
    "    a=a^b\n",
    "    b=a^b\n",
    "    a=a^b\n",
    "    print(a,b)\n",
    "swapTwoNumbers(3,5)\n",
    "\n",
    "'''Using Bitwise XOR\n",
    "The idea is to use the properties of XOR to swap the two variables.\n",
    "\n",
    "a = a ^ b: Store the Bitwise XOR of a and b in a. Now, a holds the result of (a ^ b).\n",
    "b = a ^ b: Bitwise XOR the new value of a with b to get the original value of a. This gives us, b = (a ^ b) ^ b = a.\n",
    "a = a ^ b: Bitwise XOR the new value of a with the new value of b (which is the original a) to get the original value of b. This gives us, a = (a ^ b) ^ a = b.\n",
    "Finally, a and b hold the swapped values.'''\n",
    "# Time Complexity: O(1)\n",
    "# Auxiliary Space: O(1)"
   ]
  },
  {
   "cell_type": "code",
   "execution_count": null,
   "id": "e1dd0ae2",
   "metadata": {},
   "outputs": [
    {
     "name": "stdout",
     "output_type": "stream",
     "text": [
      "5 3\n"
     ]
    }
   ],
   "source": [
    "def swapTwoNumbers(a,b):\n",
    "    a,b=b,a\n",
    "    print(a,b)\n",
    "swapTwoNumbers(3,5)\n",
    "#Tuple unpacking!\n",
    "# Time Complexity: O(1)\n",
    "# Auxiliary Space: O(1)"
   ]
  },
  {
   "cell_type": "markdown",
   "id": "c7cdcedd",
   "metadata": {},
   "source": [
    "Find Closest to n and Divisible by m\n",
    "Given two integers n and m (m != 0). Find the number closest to n and divisible by m. If there is more than one such number, then output the one having maximum absolute value.\n",
    "\n",
    "Examples: \n",
    "\n",
    "Input: n = 13, m = 4\n",
    "Output: 12\n",
    "Explanation: 12 is the closest to 13, divisible by 4.\n",
    "\n",
    "Input: n = -15, m = 6\n",
    "Output: -18\n",
    "Explanation: Both -12 and -18 are closest to -15, but -18 has the maximum absolute value."
   ]
  },
  {
   "cell_type": "code",
   "execution_count": null,
   "id": "19c1db0d",
   "metadata": {},
   "outputs": [
    {
     "data": {
      "text/plain": [
       "12"
      ]
     },
     "execution_count": 22,
     "metadata": {},
     "output_type": "execute_result"
    }
   ],
   "source": [
    "def closestnumber(n,m):\n",
    "    q=n//m #floor division\n",
    "    m1=m*q\n",
    "    if(n*m)>0:\n",
    "        m2=m*(q+1)\n",
    "    else:\n",
    "        m2=m*(q-1)\n",
    "    if abs(n-m1)<abs(n-m2):\n",
    "        return m1\n",
    "    else:\n",
    "        return m2\n",
    "closestnumber(13,4)\n",
    "'''[Expected Approach] By finding Quotient - O(1) Time and O(1) Space\n",
    "We first compute the quotient q = n / m, then calculate two candidates:\n",
    "n1 = m * q\n",
    "This is the closest multiple of m that is less than or equal to n.\n",
    "n2 = m * (q + 1) or m * (q - 1)\n",
    " We choose q + 1 or q - 1 based on the signs of n and m:\n",
    "If n and m have the same sign, use n2 = m * (q + 1)\n",
    " This moves in the direction toward n, getting the next closest multiple above n.\n",
    "If n and m have opposite signs, use n2 = m * (q - 1)\n",
    " This accounts for the fact that increasing q would move away from n due to the sign flip, \n",
    " so we instead go backward to get the next closest multiple.\n",
    "Then we return the one (n1 or n2) that has the smaller absolute difference from n.\n",
    "If both have the same distance from n, return the one with the greater absolute value, as required.'''\n",
    " "
   ]
  },
  {
   "cell_type": "markdown",
   "id": "5274db26",
   "metadata": {},
   "source": [
    "The dice problem\n",
    "Last Updated : 16 Jul, 2025\n",
    "You are given a cubic dice with 6 faces. All the individual faces have a number printed on them. The numbers are in the range of 1 to 6, like any ordinary dice. You will be provided with a face of this cube, your task is to guess the number on the opposite face of the cube.\n",
    "\n",
    "Examples:\n",
    "\n",
    "Input: n = 2\n",
    "Output: 5\n",
    "Explanation: For dice facing number 5 opposite face will have the number 2.\n",
    "\n",
    "Input: n = 6\n",
    "Output: 1\n",
    "Explanation: For dice facing number 6 opposite face will have the number 1."
   ]
  },
  {
   "cell_type": "code",
   "execution_count": 23,
   "id": "a85d8492",
   "metadata": {},
   "outputs": [
    {
     "name": "stdout",
     "output_type": "stream",
     "text": [
      "5\n"
     ]
    }
   ],
   "source": [
    "def oppositeFaceOfDice(n):\n",
    "    if n == 1:\n",
    "        return 6\n",
    "    elif n == 2:\n",
    "        return 5\n",
    "    elif n == 3:\n",
    "        return 4\n",
    "    elif n == 4:\n",
    "        return 3\n",
    "    elif n == 5:\n",
    "        return 2\n",
    "    else:\n",
    "        return 1\n",
    "\n",
    "n = 2\n",
    "print(oppositeFaceOfDice(n))\n",
    "# Time Complexity: O(1)\n",
    "# Auxiliary Space: O(1)"
   ]
  },
  {
   "cell_type": "code",
   "execution_count": 26,
   "id": "9ae871e7",
   "metadata": {},
   "outputs": [
    {
     "name": "stdout",
     "output_type": "stream",
     "text": [
      "2\n"
     ]
    }
   ],
   "source": [
    "#oppostide sides of a dice = (1,6) (2,5) (3,4)\n",
    "#  Using Sum of Two Sides\n",
    "# The idea is based on the observation that the sum of two opposite sides of a cubical dice is equal to 7.\n",
    "#  So, just subtract the given n from 7 and print the answer\n",
    "def oppositeFaceOfDice(n):\n",
    "    result=7-n\n",
    "    return result\n",
    "print(oppositeFaceOfDice(5))"
   ]
  },
  {
   "cell_type": "markdown",
   "id": "e408ecf9",
   "metadata": {},
   "source": [
    "Nth term of AP from First Two Terms\n",
    "\n",
    "Given two integers a1 and a2, the first and second terms of an Arithmetic Series respectively, the problem is to find the nth term of the series. \n",
    "Examples :\n",
    "\n",
    "Input : a1 = 2,  a2 = 3,  n = 4\n",
    "Output : 5\n",
    "Explanation : The series is 2, 3, 4, 5, 6, ....   , thus the 4th term is 5. \n",
    "\n",
    "Input : a1 = 1, a2 = 3, n = 10\n",
    "Output : 19\n",
    "Explanation:  The series is: 1, 3, 5, 7, 9, 11, 13, 15, 17, 19, 21..... Thus,10th term is 19."
   ]
  },
  {
   "cell_type": "code",
   "execution_count": 30,
   "id": "79c80b75",
   "metadata": {},
   "outputs": [
    {
     "data": {
      "text/plain": [
       "6"
      ]
     },
     "execution_count": 30,
     "metadata": {},
     "output_type": "execute_result"
    }
   ],
   "source": [
    "def nthTermofAP(a1,a2,n):\n",
    "    nthTerm=a1\n",
    "    d=a2-a1\n",
    "    for i in range(1,n+1):\n",
    "        nthTerm+=d\n",
    "    return nthTerm\n",
    "nthTermofAP(2,3,4)\n",
    "# Time Complexity - O(n)\n",
    "# Auxiliary Space - O(1)"
   ]
  },
  {
   "cell_type": "code",
   "execution_count": 35,
   "id": "50fa3f1f",
   "metadata": {},
   "outputs": [
    {
     "name": "stdout",
     "output_type": "stream",
     "text": [
      "5\n"
     ]
    }
   ],
   "source": [
    "'''Using the Formula for nth Term\n",
    "To find the nth term in the Arithmetic Progression series we use the simple formula . \n",
    "\n",
    "We know the Arithmetic Progression series is like =  2, 3, 4, 5, 6. …. … \n",
    "In this series 2 is the first term and 3 is the second term of the series . \n",
    "Common difference = a2 - a1 =  3 – 2 = 1 (Difference common in the series). \n",
    "so we can write the series as :\n",
    "t1 = a1 \n",
    "t2 = a1 + (2-1) * d \n",
    "t3 = a1 + (3-1) * d \n",
    ". \n",
    ". \n",
    ". \n",
    "tN = a1 + (n-1) * d \n",
    "\n",
    "tN = a1 + (n-1) * (a2-a1) '''\n",
    "\n",
    "def nthTermofAP(a1,a2,n):\n",
    "    return a1+(n-1)*(a2-a1)\n",
    "print(nthTermofAP(2,3,4))\n",
    "# Time Complexity - O(1)\n",
    "# Auxiliary Space - O(1)\n"
   ]
  },
  {
   "cell_type": "code",
   "execution_count": null,
   "id": "9dc0c38c",
   "metadata": {},
   "outputs": [],
   "source": []
  }
 ],
 "metadata": {
  "kernelspec": {
   "display_name": "Python 3",
   "language": "python",
   "name": "python3"
  },
  "language_info": {
   "codemirror_mode": {
    "name": "ipython",
    "version": 3
   },
   "file_extension": ".py",
   "mimetype": "text/x-python",
   "name": "python",
   "nbconvert_exporter": "python",
   "pygments_lexer": "ipython3",
   "version": "3.10.2"
  }
 },
 "nbformat": 4,
 "nbformat_minor": 5
}
